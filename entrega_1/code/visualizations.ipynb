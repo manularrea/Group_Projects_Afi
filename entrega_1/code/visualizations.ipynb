{
 "cells": [
  {
   "cell_type": "code",
   "execution_count": 5,
   "metadata": {},
   "outputs": [],
   "source": [
    "import pandas as pd\n",
    "import plotnine as p9\n",
    "import matplotlib.pyplot as plt\n",
    "import plotly.graph_objects as go\n",
    "import plotly.subplots as sp\n",
    "\n",
    "\n",
    "\n",
    "# R IMPORTATIONS\n",
    "#%load_ext rpy2.ipython\n",
    "\n",
    "\n"
   ]
  },
  {
   "cell_type": "code",
   "execution_count": 6,
   "metadata": {},
   "outputs": [
    {
     "data": {
      "text/html": [
       "<div>\n",
       "<style scoped>\n",
       "    .dataframe tbody tr th:only-of-type {\n",
       "        vertical-align: middle;\n",
       "    }\n",
       "\n",
       "    .dataframe tbody tr th {\n",
       "        vertical-align: top;\n",
       "    }\n",
       "\n",
       "    .dataframe thead th {\n",
       "        text-align: right;\n",
       "    }\n",
       "</style>\n",
       "<table border=\"1\" class=\"dataframe\">\n",
       "  <thead>\n",
       "    <tr style=\"text-align: right;\">\n",
       "      <th></th>\n",
       "      <th>age</th>\n",
       "      <th>gender</th>\n",
       "      <th>education</th>\n",
       "      <th>country</th>\n",
       "      <th>n_score</th>\n",
       "      <th>e_score</th>\n",
       "      <th>o_score</th>\n",
       "      <th>a_score</th>\n",
       "      <th>c_score</th>\n",
       "      <th>impulsive</th>\n",
       "      <th>sensation_seeing</th>\n",
       "      <th>alcohol</th>\n",
       "      <th>caffeine</th>\n",
       "      <th>nicotine</th>\n",
       "      <th>recreational_drugs</th>\n",
       "      <th>stimulant_drugs</th>\n",
       "      <th>sedative_drugs</th>\n",
       "      <th>high_risk_drugs</th>\n",
       "    </tr>\n",
       "  </thead>\n",
       "  <tbody>\n",
       "    <tr>\n",
       "      <th>0</th>\n",
       "      <td>35-44</td>\n",
       "      <td>Female</td>\n",
       "      <td>Estudios de FP</td>\n",
       "      <td>UK</td>\n",
       "      <td>0.31287</td>\n",
       "      <td>-0.57545</td>\n",
       "      <td>-0.58331</td>\n",
       "      <td>-0.91699</td>\n",
       "      <td>-0.00665</td>\n",
       "      <td>-0.21712</td>\n",
       "      <td>-1.18084</td>\n",
       "      <td>1</td>\n",
       "      <td>1</td>\n",
       "      <td>0</td>\n",
       "      <td>0</td>\n",
       "      <td>0</td>\n",
       "      <td>0</td>\n",
       "      <td>0</td>\n",
       "    </tr>\n",
       "    <tr>\n",
       "      <th>1</th>\n",
       "      <td>25-34</td>\n",
       "      <td>Male</td>\n",
       "      <td>Estudios superiores</td>\n",
       "      <td>UK</td>\n",
       "      <td>-0.67825</td>\n",
       "      <td>1.93886</td>\n",
       "      <td>1.43533</td>\n",
       "      <td>0.76096</td>\n",
       "      <td>-0.14277</td>\n",
       "      <td>-0.71126</td>\n",
       "      <td>-0.21575</td>\n",
       "      <td>1</td>\n",
       "      <td>1</td>\n",
       "      <td>1</td>\n",
       "      <td>1</td>\n",
       "      <td>1</td>\n",
       "      <td>0</td>\n",
       "      <td>0</td>\n",
       "    </tr>\n",
       "    <tr>\n",
       "      <th>2</th>\n",
       "      <td>35-44</td>\n",
       "      <td>Male</td>\n",
       "      <td>Estudios de FP</td>\n",
       "      <td>UK</td>\n",
       "      <td>-0.46725</td>\n",
       "      <td>0.80523</td>\n",
       "      <td>-0.84732</td>\n",
       "      <td>-1.62090</td>\n",
       "      <td>-1.01450</td>\n",
       "      <td>-1.37983</td>\n",
       "      <td>0.40148</td>\n",
       "      <td>1</td>\n",
       "      <td>1</td>\n",
       "      <td>0</td>\n",
       "      <td>1</td>\n",
       "      <td>0</td>\n",
       "      <td>0</td>\n",
       "      <td>0</td>\n",
       "    </tr>\n",
       "    <tr>\n",
       "      <th>3</th>\n",
       "      <td>18-24</td>\n",
       "      <td>Female</td>\n",
       "      <td>Estudios superiores</td>\n",
       "      <td>UK</td>\n",
       "      <td>-0.14882</td>\n",
       "      <td>-0.80615</td>\n",
       "      <td>-0.01928</td>\n",
       "      <td>0.59042</td>\n",
       "      <td>0.58489</td>\n",
       "      <td>-1.37983</td>\n",
       "      <td>-1.18084</td>\n",
       "      <td>1</td>\n",
       "      <td>1</td>\n",
       "      <td>0</td>\n",
       "      <td>0</td>\n",
       "      <td>0</td>\n",
       "      <td>1</td>\n",
       "      <td>0</td>\n",
       "    </tr>\n",
       "    <tr>\n",
       "      <th>4</th>\n",
       "      <td>35-44</td>\n",
       "      <td>Female</td>\n",
       "      <td>Estudios superiores</td>\n",
       "      <td>UK</td>\n",
       "      <td>0.73545</td>\n",
       "      <td>-1.63340</td>\n",
       "      <td>-0.45174</td>\n",
       "      <td>-0.30172</td>\n",
       "      <td>1.30612</td>\n",
       "      <td>-0.21712</td>\n",
       "      <td>-0.21575</td>\n",
       "      <td>1</td>\n",
       "      <td>1</td>\n",
       "      <td>0</td>\n",
       "      <td>1</td>\n",
       "      <td>0</td>\n",
       "      <td>0</td>\n",
       "      <td>0</td>\n",
       "    </tr>\n",
       "  </tbody>\n",
       "</table>\n",
       "</div>"
      ],
      "text/plain": [
       "     age  gender            education country  n_score  e_score  o_score  \\\n",
       "0  35-44  Female       Estudios de FP      UK  0.31287 -0.57545 -0.58331   \n",
       "1  25-34    Male  Estudios superiores      UK -0.67825  1.93886  1.43533   \n",
       "2  35-44    Male       Estudios de FP      UK -0.46725  0.80523 -0.84732   \n",
       "3  18-24  Female  Estudios superiores      UK -0.14882 -0.80615 -0.01928   \n",
       "4  35-44  Female  Estudios superiores      UK  0.73545 -1.63340 -0.45174   \n",
       "\n",
       "   a_score  c_score  impulsive  sensation_seeing  alcohol  caffeine  nicotine  \\\n",
       "0 -0.91699 -0.00665   -0.21712          -1.18084        1         1         0   \n",
       "1  0.76096 -0.14277   -0.71126          -0.21575        1         1         1   \n",
       "2 -1.62090 -1.01450   -1.37983           0.40148        1         1         0   \n",
       "3  0.59042  0.58489   -1.37983          -1.18084        1         1         0   \n",
       "4 -0.30172  1.30612   -0.21712          -0.21575        1         1         0   \n",
       "\n",
       "   recreational_drugs  stimulant_drugs  sedative_drugs  high_risk_drugs  \n",
       "0                   0                0               0                0  \n",
       "1                   1                1               0                0  \n",
       "2                   1                0               0                0  \n",
       "3                   0                0               1                0  \n",
       "4                   1                0               0                0  "
      ]
     },
     "execution_count": 6,
     "metadata": {},
     "output_type": "execute_result"
    }
   ],
   "source": [
    "data_drug = pd.read_csv('drug_consumption_clean.csv')\n",
    "data_drug.head()"
   ]
  },
  {
   "cell_type": "code",
   "execution_count": 4,
   "metadata": {},
   "outputs": [
    {
     "data": {
      "image/png": "[encoded data removed]",
      "text/plain": [
       "<IPython.core.display.Image object>"
      ]
     },
     "metadata": {},
     "output_type": "display_data"
    }
   ],
   "source": [
    "%%R -i data_drug\n",
    "\n",
    "data_drug$age <- as.factor(data_drug$age)\n",
    "\n",
    "apyramid::age_pyramid(data = data_drug,\n",
    "                      age_group = \"age\",\n",
    "                      split_by = \"gender\")\n"
   ]
  },
  {
   "cell_type": "markdown",
   "metadata": {},
   "source": [
    "El análisis de los datos demográficos de la muestra revela una distribución interesante en términos de género y grupos de edad. En todos los grupos de edad, excepto en los de 18 a 24 años y 55 años o más, se observa una mayor representación de mujeres que de hombres. \n",
    "\n",
    "El grupo de edad con la mayor representación en la muestra es el de 18 a 24 años, que cuenta con 400 hombres y aproximadamente 240 mujeres. Este grupo de edad representa una proporción significativa de la muestra, lo que podría tener implicaciones importantes para cualquier análisis o interpretación de los datos.\n",
    "\n",
    "El siguiente grupo de edad con mayor representación es el de 25 a 34 años, con 200 hombres y 300 mujeres. Aunque este grupo tiene menos hombres que el grupo de 18 a 24 años, tiene un mayor número de mujeres, lo que refuerza la observación de que las mujeres están más representadas en la mayoría de los grupos de edad.\n",
    "\n",
    "Por último, el grupo de edad con la menor representación en la muestra es el de 55 años o más, con aproximadamente 125 hombres y 100 mujeres. \n",
    "\n",
    "En resumen, los datos demográficos de la muestra presentan una distribución variada en términos de género y grupos de edad. Estas diferencias podrían tener implicaciones significativas para cualquier análisis o interpretación de los datos y deben ser consideradas cuidadosamente."
   ]
  },
  {
   "cell_type": "code",
   "execution_count": 5,
   "metadata": {},
   "outputs": [
    {
     "name": "stderr",
     "output_type": "stream",
     "text": [
      "R[write to console]: \n",
      "Attaching package: 'dplyr'\n",
      "\n",
      "\n",
      "R[write to console]: The following objects are masked from 'package:stats':\n",
      "\n",
      "    filter, lag\n",
      "\n",
      "\n",
      "R[write to console]: The following objects are masked from 'package:base':\n",
      "\n",
      "    intersect, setdiff, setequal, union\n",
      "\n",
      "\n"
     ]
    },
    {
     "data": {
      "image/png": "[encoded data removed]",
      "text/plain": [
       "<IPython.core.display.Image object>"
      ]
     },
     "metadata": {},
     "output_type": "display_data"
    }
   ],
   "source": [
    "%%R -i data_drug\n",
    "\n",
    "library(ggplot2)\n",
    "library(dplyr)\n",
    "library(cowplot)\n",
    "\n",
    "data_drug$country <- as.factor(data_drug$country)\n",
    "data_drug$education <- as.factor(data_drug$education)\n",
    "\n",
    "p1 <- data_drug %>% \n",
    "\n",
    "  count(country, education) %>% \n",
    "  ggplot()+\n",
    "  geom_col(mapping = aes(x = country, y = n, fill = education))+\n",
    "  scale_fill_brewer(type = \"qual\", palette = 4, na.value = \"grey\")+\n",
    "  coord_flip()+\n",
    "  theme_minimal()+\n",
    "  labs(title = \"Casos por nivel de estudios\")+\n",
    "  theme(axis.text.x = element_text(size = 7))\n",
    "\n",
    "p2 <- data_drug %>% \n",
    "\n",
    "  count(country, age) %>% \n",
    "  ggplot()+\n",
    "  geom_col(mapping = aes(x = country, y = n, fill = age))+\n",
    "  scale_fill_brewer(type = \"qual\", palette = 1, na.value = \"grey\")+\n",
    "  coord_flip()+\n",
    "  theme_minimal()+\n",
    "  theme(axis.text.y = element_blank())+\n",
    "  labs(title = \"Casos por edad\")+\n",
    "  theme(axis.text.x = element_text(size = 7))\n",
    "\n",
    "plot_grid(p1, p2, rel_widths = c(1.75, 1))"
   ]
  },
  {
   "cell_type": "markdown",
   "metadata": {},
   "source": [
    "El dataset considera las categorías USA, UK, Republic of Ireland, New Zelandia, Canada, Australia y Others para los países de origen de los encuestados. La muestra agrupa  mayor respresentación de los países USA y UK, mientras que el resto de categorías, especialmente Republic of Ireland y New Zeland, son los países con menor representación.\n",
    "\n",
    "Ahora bien, cualquier generalización con este tamaño de muestra es falaz, por el principio básico del muestro: La muestra debe ser aleatoria y lo suficientemente grande para poder establecer generalizaciones. Por lo tanto, para el análisis posterior de los datos, no se debe tener en cuenta disgregaciones por país\n",
    "\n",
    "Respecto al nivel de estudios, se observa que para UK la muestra se encuentra más representada por personas con estudios superiores, seguido por personas con Estudios FP, mientras que para USA las personas con mayor representación son las que se encuentran Estudiando, seguido de personas con Estudios superiores. Para ambos países la categoría sin estudios tienen bajo valor ponderado.\n",
    "\n",
    "Finalmente, respecto a la edad, se tiene que para UK la población se encuentra normalmente distribuida para los rangos especificados, teniendo mayor representación para las personas entre 25-34 años y menor representación para las personas mayores de 55 años\n"
   ]
  },
  {
   "cell_type": "code",
   "execution_count": 6,
   "metadata": {},
   "outputs": [
    {
     "data": {
      "image/png": "[encoded data removed]",
      "text/plain": [
       "<IPython.core.display.Image object>"
      ]
     },
     "metadata": {},
     "output_type": "display_data"
    }
   ],
   "source": [
    "%%R -i data_drug\n",
    "\n",
    "library(ggplot2)\n",
    "library(dplyr)\n",
    "library(cowplot)\n",
    "\n",
    "ggplot(data = data_drug, aes(x = age, y = n_score)) + \n",
    "  geom_jitter(aes(color = age), size = 1, alpha = 0.7) +\n",
    "  geom_boxplot(aes(color = age), alpha = 0.7) + \n",
    "  xlab('Edad') + \n",
    "  ylab('N Score') +\n",
    "  ggtitle('N Score según la edad') + \n",
    "  theme_minimal()"
   ]
  },
  {
   "cell_type": "code",
   "execution_count": 8,
   "metadata": {},
   "outputs": [],
   "source": [
    "data_drug_by_age = data_drug.drop(columns=['gender','education','country','n_score', 'e_score', 'o_score', 'c_score','a_score', 'impulsive', 'sensation_seeing'])"
   ]
  },
  {
   "cell_type": "code",
   "execution_count": 9,
   "metadata": {},
   "outputs": [
    {
     "data": {
      "text/html": [
       "<div>\n",
       "<style scoped>\n",
       "    .dataframe tbody tr th:only-of-type {\n",
       "        vertical-align: middle;\n",
       "    }\n",
       "\n",
       "    .dataframe tbody tr th {\n",
       "        vertical-align: top;\n",
       "    }\n",
       "\n",
       "    .dataframe thead th {\n",
       "        text-align: right;\n",
       "    }\n",
       "</style>\n",
       "<table border=\"1\" class=\"dataframe\">\n",
       "  <thead>\n",
       "    <tr style=\"text-align: right;\">\n",
       "      <th></th>\n",
       "      <th>alcohol</th>\n",
       "      <th>caffeine</th>\n",
       "      <th>nicotine</th>\n",
       "      <th>recreational_drugs</th>\n",
       "      <th>stimulant_drugs</th>\n",
       "      <th>sedative_drugs</th>\n",
       "      <th>high_risk_drugs</th>\n",
       "    </tr>\n",
       "    <tr>\n",
       "      <th>age</th>\n",
       "      <th></th>\n",
       "      <th></th>\n",
       "      <th></th>\n",
       "      <th></th>\n",
       "      <th></th>\n",
       "      <th></th>\n",
       "      <th></th>\n",
       "    </tr>\n",
       "  </thead>\n",
       "  <tbody>\n",
       "    <tr>\n",
       "      <th>18-24</th>\n",
       "      <td>0.959184</td>\n",
       "      <td>0.979592</td>\n",
       "      <td>0.755102</td>\n",
       "      <td>0.857143</td>\n",
       "      <td>0.571429</td>\n",
       "      <td>0.678179</td>\n",
       "      <td>0.238619</td>\n",
       "    </tr>\n",
       "    <tr>\n",
       "      <th>25-34</th>\n",
       "      <td>0.943750</td>\n",
       "      <td>0.968750</td>\n",
       "      <td>0.564583</td>\n",
       "      <td>0.531250</td>\n",
       "      <td>0.389583</td>\n",
       "      <td>0.445833</td>\n",
       "      <td>0.139583</td>\n",
       "    </tr>\n",
       "    <tr>\n",
       "      <th>35-44</th>\n",
       "      <td>0.904225</td>\n",
       "      <td>0.969014</td>\n",
       "      <td>0.461972</td>\n",
       "      <td>0.369014</td>\n",
       "      <td>0.222535</td>\n",
       "      <td>0.292958</td>\n",
       "      <td>0.076056</td>\n",
       "    </tr>\n",
       "    <tr>\n",
       "      <th>45-54</th>\n",
       "      <td>0.894558</td>\n",
       "      <td>0.945578</td>\n",
       "      <td>0.343537</td>\n",
       "      <td>0.268707</td>\n",
       "      <td>0.170068</td>\n",
       "      <td>0.227891</td>\n",
       "      <td>0.034014</td>\n",
       "    </tr>\n",
       "    <tr>\n",
       "      <th>55+</th>\n",
       "      <td>0.846847</td>\n",
       "      <td>0.945946</td>\n",
       "      <td>0.324324</td>\n",
       "      <td>0.252252</td>\n",
       "      <td>0.117117</td>\n",
       "      <td>0.180180</td>\n",
       "      <td>0.018018</td>\n",
       "    </tr>\n",
       "  </tbody>\n",
       "</table>\n",
       "</div>"
      ],
      "text/plain": [
       "        alcohol  caffeine  nicotine  recreational_drugs  stimulant_drugs  \\\n",
       "age                                                                        \n",
       "18-24  0.959184  0.979592  0.755102            0.857143         0.571429   \n",
       "25-34  0.943750  0.968750  0.564583            0.531250         0.389583   \n",
       "35-44  0.904225  0.969014  0.461972            0.369014         0.222535   \n",
       "45-54  0.894558  0.945578  0.343537            0.268707         0.170068   \n",
       "55+    0.846847  0.945946  0.324324            0.252252         0.117117   \n",
       "\n",
       "       sedative_drugs  high_risk_drugs  \n",
       "age                                     \n",
       "18-24        0.678179         0.238619  \n",
       "25-34        0.445833         0.139583  \n",
       "35-44        0.292958         0.076056  \n",
       "45-54        0.227891         0.034014  \n",
       "55+          0.180180         0.018018  "
      ]
     },
     "execution_count": 9,
     "metadata": {},
     "output_type": "execute_result"
    }
   ],
   "source": [
    "drugs_agg = data_drug_by_age.groupby(\"age\")[[\"alcohol\", \"caffeine\",\"nicotine\",\"recreational_drugs\",'stimulant_drugs','sedative_drugs','high_risk_drugs']].agg('mean')\n",
    "drugs_agg"
   ]
  },
  {
   "cell_type": "code",
   "execution_count": 37,
   "metadata": {},
   "outputs": [
    {
     "data": {
      "application/vnd.plotly.v1+json": {
       "config": {
        "plotlyServerURL": "https://plot.ly"
       },
       "data": [
        {
         "fill": "toself",
         "name": "18-24",
         "r": [
          0.9591836734693877,
          0.9795918367346939,
          0.7551020408163265,
          0.8571428571428571,
          0.5714285714285714,
          0.6781789638932496,
          0.23861852433281006
         ],
         "subplot": "polar",
         "theta": [
          "alcohol",
          "caffeine",
          "nicotine",
          "recreational_drugs",
          "stimulant_drugs",
          "sedative_drugs",
          "high_risk_drugs"
         ],
         "type": "scatterpolar"
        },
        {
         "fill": "toself",
         "name": "25-34",
         "r": [
          0.94375,
          0.96875,
          0.5645833333333333,
          0.53125,
          0.38958333333333334,
          0.44583333333333336,
          0.13958333333333334
         ],
         "subplot": "polar2",
         "theta": [
          "alcohol",
          "caffeine",
          "nicotine",
          "recreational_drugs",
          "stimulant_drugs",
          "sedative_drugs",
          "high_risk_drugs"
         ],
         "type": "scatterpolar"
        },
        {
         "fill": "toself",
         "name": "35-44",
         "r": [
          0.9042253521126761,
          0.9690140845070423,
          0.4619718309859155,
          0.36901408450704226,
          0.22253521126760564,
          0.29295774647887324,
          0.07605633802816901
         ],
         "subplot": "polar3",
         "theta": [
          "alcohol",
          "caffeine",
          "nicotine",
          "recreational_drugs",
          "stimulant_drugs",
          "sedative_drugs",
          "high_risk_drugs"
         ],
         "type": "scatterpolar"
        },
        {
         "fill": "toself",
         "name": "45-54",
         "r": [
          0.8945578231292517,
          0.9455782312925171,
          0.3435374149659864,
          0.2687074829931973,
          0.17006802721088435,
          0.22789115646258504,
          0.034013605442176874
         ],
         "subplot": "polar4",
         "theta": [
          "alcohol",
          "caffeine",
          "nicotine",
          "recreational_drugs",
          "stimulant_drugs",
          "sedative_drugs",
          "high_risk_drugs"
         ],
         "type": "scatterpolar"
        },
        {
         "fill": "toself",
         "name": "55+",
         "r": [
          0.8468468468468469,
          0.9459459459459459,
          0.32432432432432434,
          0.25225225225225223,
          0.11711711711711711,
          0.18018018018018017,
          0.018018018018018018
         ],
         "subplot": "polar5",
         "theta": [
          "alcohol",
          "caffeine",
          "nicotine",
          "recreational_drugs",
          "stimulant_drugs",
          "sedative_drugs",
          "high_risk_drugs"
         ],
         "type": "scatterpolar"
        }
       ],
       "layout": {
        "height": 800,
        "polar": {
         "domain": {
          "x": [
           0,
           0.19999999999999998
          ],
          "y": [
           0.575,
           1
          ]
         },
         "radialaxis": {
          "range": [
           0,
           1
          ]
         }
        },
        "polar2": {
         "domain": {
          "x": [
           0.4,
           0.6
          ],
          "y": [
           0.575,
           1
          ]
         },
         "radialaxis": {
          "range": [
           0,
           1
          ]
         }
        },
        "polar3": {
         "domain": {
          "x": [
           0.8,
           1
          ],
          "y": [
           0.575,
           1
          ]
         },
         "radialaxis": {
          "range": [
           0,
           1
          ]
         }
        },
        "polar4": {
         "domain": {
          "x": [
           0,
           0.19999999999999998
          ],
          "y": [
           0,
           0.425
          ]
         },
         "radialaxis": {
          "range": [
           0,
           1
          ]
         }
        },
        "polar5": {
         "domain": {
          "x": [
           0.4,
           0.6
          ],
          "y": [
           0,
           0.425
          ]
         },
         "radialaxis": {
          "range": [
           0,
           1
          ]
         }
        },
        "polar6": {
         "radialaxis": {
          "range": [
           0,
           1
          ]
         }
        },
        "template": {
         "data": {
          "bar": [
           {
            "error_x": {
             "color": "#2a3f5f"
            },
            "error_y": {
             "color": "#2a3f5f"
            },
            "marker": {
             "line": {
              "color": "#E5ECF6",
              "width": 0.5
             },
             "pattern": {
              "fillmode": "overlay",
              "size": 10,
              "solidity": 0.2
             }
            },
            "type": "bar"
           }
          ],
          "barpolar": [
           {
            "marker": {
             "line": {
              "color": "#E5ECF6",
              "width": 0.5
             },
             "pattern": {
              "fillmode": "overlay",
              "size": 10,
              "solidity": 0.2
             }
            },
            "type": "barpolar"
           }
          ],
          "carpet": [
           {
            "aaxis": {
             "endlinecolor": "#2a3f5f",
             "gridcolor": "white",
             "linecolor": "white",
             "minorgridcolor": "white",
             "startlinecolor": "#2a3f5f"
            },
            "baxis": {
             "endlinecolor": "#2a3f5f",
             "gridcolor": "white",
             "linecolor": "white",
             "minorgridcolor": "white",
             "startlinecolor": "#2a3f5f"
            },
            "type": "carpet"
           }
          ],
          "choropleth": [
           {
            "colorbar": {
             "outlinewidth": 0,
             "ticks": ""
            },
            "type": "choropleth"
           }
          ],
          "contour": [
           {
            "colorbar": {
             "outlinewidth": 0,
             "ticks": ""
            },
            "colorscale": [
             [
              0,
              "#0d0887"
             ],
             [
              0.1111111111111111,
              "#46039f"
             ],
             [
              0.2222222222222222,
              "#7201a8"
             ],
             [
              0.3333333333333333,
              "#9c179e"
             ],
             [
              0.4444444444444444,
              "#bd3786"
             ],
             [
              0.5555555555555556,
              "#d8576b"
             ],
             [
              0.6666666666666666,
              "#ed7953"
             ],
             [
              0.7777777777777778,
              "#fb9f3a"
             ],
             [
              0.8888888888888888,
              "#fdca26"
             ],
             [
              1,
              "#f0f921"
             ]
            ],
            "type": "contour"
           }
          ],
          "contourcarpet": [
           {
            "colorbar": {
             "outlinewidth": 0,
             "ticks": ""
            },
            "type": "contourcarpet"
           }
          ],
          "heatmap": [
           {
            "colorbar": {
             "outlinewidth": 0,
             "ticks": ""
            },
            "colorscale": [
             [
              0,
              "#0d0887"
             ],
             [
              0.1111111111111111,
              "#46039f"
             ],
             [
              0.2222222222222222,
              "#7201a8"
             ],
             [
              0.3333333333333333,
              "#9c179e"
             ],
             [
              0.4444444444444444,
              "#bd3786"
             ],
             [
              0.5555555555555556,
              "#d8576b"
             ],
             [
              0.6666666666666666,
              "#ed7953"
             ],
             [
              0.7777777777777778,
              "#fb9f3a"
             ],
             [
              0.8888888888888888,
              "#fdca26"
             ],
             [
              1,
              "#f0f921"
             ]
            ],
            "type": "heatmap"
           }
          ],
          "heatmapgl": [
           {
            "colorbar": {
             "outlinewidth": 0,
             "ticks": ""
            },
            "colorscale": [
             [
              0,
              "#0d0887"
             ],
             [
              0.1111111111111111,
              "#46039f"
             ],
             [
              0.2222222222222222,
              "#7201a8"
             ],
             [
              0.3333333333333333,
              "#9c179e"
             ],
             [
              0.4444444444444444,
              "#bd3786"
             ],
             [
              0.5555555555555556,
              "#d8576b"
             ],
             [
              0.6666666666666666,
              "#ed7953"
             ],
             [
              0.7777777777777778,
              "#fb9f3a"
             ],
             [
              0.8888888888888888,
              "#fdca26"
             ],
             [
              1,
              "#f0f921"
             ]
            ],
            "type": "heatmapgl"
           }
          ],
          "histogram": [
           {
            "marker": {
             "pattern": {
              "fillmode": "overlay",
              "size": 10,
              "solidity": 0.2
             }
            },
            "type": "histogram"
           }
          ],
          "histogram2d": [
           {
            "colorbar": {
             "outlinewidth": 0,
             "ticks": ""
            },
            "colorscale": [
             [
              0,
              "#0d0887"
             ],
             [
              0.1111111111111111,
              "#46039f"
             ],
             [
              0.2222222222222222,
              "#7201a8"
             ],
             [
              0.3333333333333333,
              "#9c179e"
             ],
             [
              0.4444444444444444,
              "#bd3786"
             ],
             [
              0.5555555555555556,
              "#d8576b"
             ],
             [
              0.6666666666666666,
              "#ed7953"
             ],
             [
              0.7777777777777778,
              "#fb9f3a"
             ],
             [
              0.8888888888888888,
              "#fdca26"
             ],
             [
              1,
              "#f0f921"
             ]
            ],
            "type": "histogram2d"
           }
          ],
          "histogram2dcontour": [
           {
            "colorbar": {
             "outlinewidth": 0,
             "ticks": ""
            },
            "colorscale": [
             [
              0,
              "#0d0887"
             ],
             [
              0.1111111111111111,
              "#46039f"
             ],
             [
              0.2222222222222222,
              "#7201a8"
             ],
             [
              0.3333333333333333,
              "#9c179e"
             ],
             [
              0.4444444444444444,
              "#bd3786"
             ],
             [
              0.5555555555555556,
              "#d8576b"
             ],
             [
              0.6666666666666666,
              "#ed7953"
             ],
             [
              0.7777777777777778,
              "#fb9f3a"
             ],
             [
              0.8888888888888888,
              "#fdca26"
             ],
             [
              1,
              "#f0f921"
             ]
            ],
            "type": "histogram2dcontour"
           }
          ],
          "mesh3d": [
           {
            "colorbar": {
             "outlinewidth": 0,
             "ticks": ""
            },
            "type": "mesh3d"
           }
          ],
          "parcoords": [
           {
            "line": {
             "colorbar": {
              "outlinewidth": 0,
              "ticks": ""
             }
            },
            "type": "parcoords"
           }
          ],
          "pie": [
           {
            "automargin": true,
            "type": "pie"
           }
          ],
          "scatter": [
           {
            "fillpattern": {
             "fillmode": "overlay",
             "size": 10,
             "solidity": 0.2
            },
            "type": "scatter"
           }
          ],
          "scatter3d": [
           {
            "line": {
             "colorbar": {
              "outlinewidth": 0,
              "ticks": ""
             }
            },
            "marker": {
             "colorbar": {
              "outlinewidth": 0,
              "ticks": ""
             }
            },
            "type": "scatter3d"
           }
          ],
          "scattercarpet": [
           {
            "marker": {
             "colorbar": {
              "outlinewidth": 0,
              "ticks": ""
             }
            },
            "type": "scattercarpet"
           }
          ],
          "scattergeo": [
           {
            "marker": {
             "colorbar": {
              "outlinewidth": 0,
              "ticks": ""
             }
            },
            "type": "scattergeo"
           }
          ],
          "scattergl": [
           {
            "marker": {
             "colorbar": {
              "outlinewidth": 0,
              "ticks": ""
             }
            },
            "type": "scattergl"
           }
          ],
          "scattermapbox": [
           {
            "marker": {
             "colorbar": {
              "outlinewidth": 0,
              "ticks": ""
             }
            },
            "type": "scattermapbox"
           }
          ],
          "scatterpolar": [
           {
            "marker": {
             "colorbar": {
              "outlinewidth": 0,
              "ticks": ""
             }
            },
            "type": "scatterpolar"
           }
          ],
          "scatterpolargl": [
           {
            "marker": {
             "colorbar": {
              "outlinewidth": 0,
              "ticks": ""
             }
            },
            "type": "scatterpolargl"
           }
          ],
          "scatterternary": [
           {
            "marker": {
             "colorbar": {
              "outlinewidth": 0,
              "ticks": ""
             }
            },
            "type": "scatterternary"
           }
          ],
          "surface": [
           {
            "colorbar": {
             "outlinewidth": 0,
             "ticks": ""
            },
            "colorscale": [
             [
              0,
              "#0d0887"
             ],
             [
              0.1111111111111111,
              "#46039f"
             ],
             [
              0.2222222222222222,
              "#7201a8"
             ],
             [
              0.3333333333333333,
              "#9c179e"
             ],
             [
              0.4444444444444444,
              "#bd3786"
             ],
             [
              0.5555555555555556,
              "#d8576b"
             ],
             [
              0.6666666666666666,
              "#ed7953"
             ],
             [
              0.7777777777777778,
              "#fb9f3a"
             ],
             [
              0.8888888888888888,
              "#fdca26"
             ],
             [
              1,
              "#f0f921"
             ]
            ],
            "type": "surface"
           }
          ],
          "table": [
           {
            "cells": {
             "fill": {
              "color": "#EBF0F8"
             },
             "line": {
              "color": "white"
             }
            },
            "header": {
             "fill": {
              "color": "#C8D4E3"
             },
             "line": {
              "color": "white"
             }
            },
            "type": "table"
           }
          ]
         },
         "layout": {
          "annotationdefaults": {
           "arrowcolor": "#2a3f5f",
           "arrowhead": 0,
           "arrowwidth": 1
          },
          "autotypenumbers": "strict",
          "coloraxis": {
           "colorbar": {
            "outlinewidth": 0,
            "ticks": ""
           }
          },
          "colorscale": {
           "diverging": [
            [
             0,
             "#8e0152"
            ],
            [
             0.1,
             "#c51b7d"
            ],
            [
             0.2,
             "#de77ae"
            ],
            [
             0.3,
             "#f1b6da"
            ],
            [
             0.4,
             "#fde0ef"
            ],
            [
             0.5,
             "#f7f7f7"
            ],
            [
             0.6,
             "#e6f5d0"
            ],
            [
             0.7,
             "#b8e186"
            ],
            [
             0.8,
             "#7fbc41"
            ],
            [
             0.9,
             "#4d9221"
            ],
            [
             1,
             "#276419"
            ]
           ],
           "sequential": [
            [
             0,
             "#0d0887"
            ],
            [
             0.1111111111111111,
             "#46039f"
            ],
            [
             0.2222222222222222,
             "#7201a8"
            ],
            [
             0.3333333333333333,
             "#9c179e"
            ],
            [
             0.4444444444444444,
             "#bd3786"
            ],
            [
             0.5555555555555556,
             "#d8576b"
            ],
            [
             0.6666666666666666,
             "#ed7953"
            ],
            [
             0.7777777777777778,
             "#fb9f3a"
            ],
            [
             0.8888888888888888,
             "#fdca26"
            ],
            [
             1,
             "#f0f921"
            ]
           ],
           "sequentialminus": [
            [
             0,
             "#0d0887"
            ],
            [
             0.1111111111111111,
             "#46039f"
            ],
            [
             0.2222222222222222,
             "#7201a8"
            ],
            [
             0.3333333333333333,
             "#9c179e"
            ],
            [
             0.4444444444444444,
             "#bd3786"
            ],
            [
             0.5555555555555556,
             "#d8576b"
            ],
            [
             0.6666666666666666,
             "#ed7953"
            ],
            [
             0.7777777777777778,
             "#fb9f3a"
            ],
            [
             0.8888888888888888,
             "#fdca26"
            ],
            [
             1,
             "#f0f921"
            ]
           ]
          },
          "colorway": [
           "#636efa",
           "#EF553B",
           "#00cc96",
           "#ab63fa",
           "#FFA15A",
           "#19d3f3",
           "#FF6692",
           "#B6E880",
           "#FF97FF",
           "#FECB52"
          ],
          "font": {
           "color": "#2a3f5f"
          },
          "geo": {
           "bgcolor": "white",
           "lakecolor": "white",
           "landcolor": "#E5ECF6",
           "showlakes": true,
           "showland": true,
           "subunitcolor": "white"
          },
          "hoverlabel": {
           "align": "left"
          },
          "hovermode": "closest",
          "mapbox": {
           "style": "light"
          },
          "paper_bgcolor": "white",
          "plot_bgcolor": "#E5ECF6",
          "polar": {
           "angularaxis": {
            "gridcolor": "white",
            "linecolor": "white",
            "ticks": ""
           },
           "bgcolor": "#E5ECF6",
           "radialaxis": {
            "gridcolor": "white",
            "linecolor": "white",
            "ticks": ""
           }
          },
          "scene": {
           "xaxis": {
            "backgroundcolor": "#E5ECF6",
            "gridcolor": "white",
            "gridwidth": 2,
            "linecolor": "white",
            "showbackground": true,
            "ticks": "",
            "zerolinecolor": "white"
           },
           "yaxis": {
            "backgroundcolor": "#E5ECF6",
            "gridcolor": "white",
            "gridwidth": 2,
            "linecolor": "white",
            "showbackground": true,
            "ticks": "",
            "zerolinecolor": "white"
           },
           "zaxis": {
            "backgroundcolor": "#E5ECF6",
            "gridcolor": "white",
            "gridwidth": 2,
            "linecolor": "white",
            "showbackground": true,
            "ticks": "",
            "zerolinecolor": "white"
           }
          },
          "shapedefaults": {
           "line": {
            "color": "#2a3f5f"
           }
          },
          "ternary": {
           "aaxis": {
            "gridcolor": "white",
            "linecolor": "white",
            "ticks": ""
           },
           "baxis": {
            "gridcolor": "white",
            "linecolor": "white",
            "ticks": ""
           },
           "bgcolor": "#E5ECF6",
           "caxis": {
            "gridcolor": "white",
            "linecolor": "white",
            "ticks": ""
           }
          },
          "title": {
           "x": 0.05
          },
          "xaxis": {
           "automargin": true,
           "gridcolor": "white",
           "linecolor": "white",
           "ticks": "",
           "title": {
            "standoff": 15
           },
           "zerolinecolor": "white",
           "zerolinewidth": 2
          },
          "yaxis": {
           "automargin": true,
           "gridcolor": "white",
           "linecolor": "white",
           "ticks": "",
           "title": {
            "standoff": 15
           },
           "zerolinecolor": "white",
           "zerolinewidth": 2
          }
         }
        },
        "width": 1500,
        "xaxis": {
         "anchor": "y",
         "domain": [
          0.8,
          1
         ]
        },
        "yaxis": {
         "anchor": "x",
         "domain": [
          0,
          0.425
         ]
        }
       }
      }
     },
     "metadata": {},
     "output_type": "display_data"
    }
   ],
   "source": [
    "categories = drugs_agg.columns.tolist()\n",
    "\n",
    "fig = sp.make_subplots(rows=2, cols=3, horizontal_spacing=0.2, specs=[[{'type': 'polar'}, {'type': 'polar'}, {'type': 'polar'}], [{'type': 'polar'}, {'type': 'polar'}, {}]])\n",
    "\n",
    "for i in range(len(drugs_agg.index)):\n",
    "    fig.add_trace(go.Scatterpolar(\n",
    "      r=drugs_agg.iloc[i],\n",
    "      theta=categories,\n",
    "      fill='toself',\n",
    "      name=drugs_agg.index[i]\n",
    "    ), row=i//3+1, col=i%3+1)\n",
    "\n",
    "fig.update_layout(height=800, width=1500)\n",
    "fig.update_layout(polar=dict(radialaxis=dict(range=[0, 1])))\n",
    "fig.update_layout(polar=dict(radialaxis=dict(range=[0, 1])), polar2=dict(radialaxis=dict(range=[0, 1])), polar3=dict(radialaxis=dict(range=[0, 1])), polar4=dict(radialaxis=dict(range=[0, 1])), polar5=dict(radialaxis=dict(range=[0, 1])), polar6=dict(radialaxis=dict(range=[0, 1])))\n",
    "\n",
    "fig.show()\n"
   ]
  },
  {
   "cell_type": "code",
   "execution_count": 11,
   "metadata": {},
   "outputs": [],
   "source": [
    "# Melt the DataFrame from wide to long format\n",
    "drugs_agg_long = drugs_agg.transpose()"
   ]
  },
  {
   "cell_type": "code",
   "execution_count": 18,
   "metadata": {},
   "outputs": [
    {
     "data": {
      "text/html": [
       "<div>\n",
       "<style scoped>\n",
       "    .dataframe tbody tr th:only-of-type {\n",
       "        vertical-align: middle;\n",
       "    }\n",
       "\n",
       "    .dataframe tbody tr th {\n",
       "        vertical-align: top;\n",
       "    }\n",
       "\n",
       "    .dataframe thead th {\n",
       "        text-align: right;\n",
       "    }\n",
       "</style>\n",
       "<table border=\"1\" class=\"dataframe\">\n",
       "  <thead>\n",
       "    <tr style=\"text-align: right;\">\n",
       "      <th>age</th>\n",
       "      <th>18-24</th>\n",
       "      <th>25-34</th>\n",
       "      <th>35-44</th>\n",
       "      <th>45-54</th>\n",
       "      <th>55+</th>\n",
       "    </tr>\n",
       "  </thead>\n",
       "  <tbody>\n",
       "    <tr>\n",
       "      <th>alcohol</th>\n",
       "      <td>0.959184</td>\n",
       "      <td>0.943750</td>\n",
       "      <td>0.904225</td>\n",
       "      <td>0.894558</td>\n",
       "      <td>0.846847</td>\n",
       "    </tr>\n",
       "    <tr>\n",
       "      <th>caffeine</th>\n",
       "      <td>0.979592</td>\n",
       "      <td>0.968750</td>\n",
       "      <td>0.969014</td>\n",
       "      <td>0.945578</td>\n",
       "      <td>0.945946</td>\n",
       "    </tr>\n",
       "    <tr>\n",
       "      <th>nicotine</th>\n",
       "      <td>0.755102</td>\n",
       "      <td>0.564583</td>\n",
       "      <td>0.461972</td>\n",
       "      <td>0.343537</td>\n",
       "      <td>0.324324</td>\n",
       "    </tr>\n",
       "    <tr>\n",
       "      <th>recreational_drugs</th>\n",
       "      <td>0.857143</td>\n",
       "      <td>0.531250</td>\n",
       "      <td>0.369014</td>\n",
       "      <td>0.268707</td>\n",
       "      <td>0.252252</td>\n",
       "    </tr>\n",
       "    <tr>\n",
       "      <th>stimulant_drugs</th>\n",
       "      <td>0.571429</td>\n",
       "      <td>0.389583</td>\n",
       "      <td>0.222535</td>\n",
       "      <td>0.170068</td>\n",
       "      <td>0.117117</td>\n",
       "    </tr>\n",
       "    <tr>\n",
       "      <th>sedative_drugs</th>\n",
       "      <td>0.678179</td>\n",
       "      <td>0.445833</td>\n",
       "      <td>0.292958</td>\n",
       "      <td>0.227891</td>\n",
       "      <td>0.180180</td>\n",
       "    </tr>\n",
       "    <tr>\n",
       "      <th>high_risk_drugs</th>\n",
       "      <td>0.238619</td>\n",
       "      <td>0.139583</td>\n",
       "      <td>0.076056</td>\n",
       "      <td>0.034014</td>\n",
       "      <td>0.018018</td>\n",
       "    </tr>\n",
       "  </tbody>\n",
       "</table>\n",
       "</div>"
      ],
      "text/plain": [
       "age                    18-24     25-34     35-44     45-54       55+\n",
       "alcohol             0.959184  0.943750  0.904225  0.894558  0.846847\n",
       "caffeine            0.979592  0.968750  0.969014  0.945578  0.945946\n",
       "nicotine            0.755102  0.564583  0.461972  0.343537  0.324324\n",
       "recreational_drugs  0.857143  0.531250  0.369014  0.268707  0.252252\n",
       "stimulant_drugs     0.571429  0.389583  0.222535  0.170068  0.117117\n",
       "sedative_drugs      0.678179  0.445833  0.292958  0.227891  0.180180\n",
       "high_risk_drugs     0.238619  0.139583  0.076056  0.034014  0.018018"
      ]
     },
     "execution_count": 18,
     "metadata": {},
     "output_type": "execute_result"
    }
   ],
   "source": [
    "drugs_agg_long"
   ]
  },
  {
   "cell_type": "code",
   "execution_count": 36,
   "metadata": {},
   "outputs": [
    {
     "data": {
      "application/vnd.plotly.v1+json": {
       "config": {
        "plotlyServerURL": "https://plot.ly"
       },
       "data": [
        {
         "fill": "toself",
         "name": "alcohol",
         "r": [
          0.9591836734693877,
          0.94375,
          0.9042253521126761,
          0.8945578231292517,
          0.8468468468468469
         ],
         "subplot": "polar",
         "theta": [
          "18-24",
          "25-34",
          "35-44",
          "45-54",
          "55+"
         ],
         "type": "scatterpolar"
        },
        {
         "fill": "toself",
         "name": "caffeine",
         "r": [
          0.9795918367346939,
          0.96875,
          0.9690140845070423,
          0.9455782312925171,
          0.9459459459459459
         ],
         "subplot": "polar2",
         "theta": [
          "18-24",
          "25-34",
          "35-44",
          "45-54",
          "55+"
         ],
         "type": "scatterpolar"
        },
        {
         "fill": "toself",
         "name": "nicotine",
         "r": [
          0.7551020408163265,
          0.5645833333333333,
          0.4619718309859155,
          0.3435374149659864,
          0.32432432432432434
         ],
         "subplot": "polar3",
         "theta": [
          "18-24",
          "25-34",
          "35-44",
          "45-54",
          "55+"
         ],
         "type": "scatterpolar"
        },
        {
         "fill": "toself",
         "name": "recreational_drugs",
         "r": [
          0.8571428571428571,
          0.53125,
          0.36901408450704226,
          0.2687074829931973,
          0.25225225225225223
         ],
         "subplot": "polar4",
         "theta": [
          "18-24",
          "25-34",
          "35-44",
          "45-54",
          "55+"
         ],
         "type": "scatterpolar"
        },
        {
         "fill": "toself",
         "name": "stimulant_drugs",
         "r": [
          0.5714285714285714,
          0.38958333333333334,
          0.22253521126760564,
          0.17006802721088435,
          0.11711711711711711
         ],
         "subplot": "polar5",
         "theta": [
          "18-24",
          "25-34",
          "35-44",
          "45-54",
          "55+"
         ],
         "type": "scatterpolar"
        },
        {
         "fill": "toself",
         "name": "sedative_drugs",
         "r": [
          0.6781789638932496,
          0.44583333333333336,
          0.29295774647887324,
          0.22789115646258504,
          0.18018018018018017
         ],
         "subplot": "polar6",
         "theta": [
          "18-24",
          "25-34",
          "35-44",
          "45-54",
          "55+"
         ],
         "type": "scatterpolar"
        },
        {
         "fill": "toself",
         "name": "high_risk_drugs",
         "r": [
          0.23861852433281006,
          0.13958333333333334,
          0.07605633802816901,
          0.034013605442176874,
          0.018018018018018018
         ],
         "subplot": "polar7",
         "theta": [
          "18-24",
          "25-34",
          "35-44",
          "45-54",
          "55+"
         ],
         "type": "scatterpolar"
        }
       ],
       "layout": {
        "height": 800,
        "polar": {
         "domain": {
          "x": [
           0,
           0.175
          ],
          "y": [
           0.575,
           1
          ]
         },
         "radialaxis": {
          "range": [
           0,
           1
          ]
         }
        },
        "polar2": {
         "domain": {
          "x": [
           0.275,
           0.45
          ],
          "y": [
           0.575,
           1
          ]
         },
         "radialaxis": {
          "range": [
           0,
           1
          ]
         }
        },
        "polar3": {
         "domain": {
          "x": [
           0.55,
           0.7250000000000001
          ],
          "y": [
           0.575,
           1
          ]
         },
         "radialaxis": {
          "range": [
           0,
           1
          ]
         }
        },
        "polar4": {
         "domain": {
          "x": [
           0.825,
           1
          ],
          "y": [
           0.575,
           1
          ]
         },
         "radialaxis": {
          "range": [
           0,
           1
          ]
         }
        },
        "polar5": {
         "domain": {
          "x": [
           0,
           0.175
          ],
          "y": [
           0,
           0.425
          ]
         },
         "radialaxis": {
          "range": [
           0,
           1
          ]
         }
        },
        "polar6": {
         "domain": {
          "x": [
           0.275,
           0.45
          ],
          "y": [
           0,
           0.425
          ]
         },
         "radialaxis": {
          "range": [
           0,
           1
          ]
         }
        },
        "polar7": {
         "domain": {
          "x": [
           0.55,
           0.7250000000000001
          ],
          "y": [
           0,
           0.425
          ]
         },
         "radialaxis": {
          "range": [
           0,
           1
          ]
         }
        },
        "polar8": {
         "domain": {
          "x": [
           0.825,
           1
          ],
          "y": [
           0,
           0.425
          ]
         },
         "radialaxis": {
          "range": [
           0,
           1
          ]
         }
        },
        "template": {
         "data": {
          "bar": [
           {
            "error_x": {
             "color": "#2a3f5f"
            },
            "error_y": {
             "color": "#2a3f5f"
            },
            "marker": {
             "line": {
              "color": "#E5ECF6",
              "width": 0.5
             },
             "pattern": {
              "fillmode": "overlay",
              "size": 10,
              "solidity": 0.2
             }
            },
            "type": "bar"
           }
          ],
          "barpolar": [
           {
            "marker": {
             "line": {
              "color": "#E5ECF6",
              "width": 0.5
             },
             "pattern": {
              "fillmode": "overlay",
              "size": 10,
              "solidity": 0.2
             }
            },
            "type": "barpolar"
           }
          ],
          "carpet": [
           {
            "aaxis": {
             "endlinecolor": "#2a3f5f",
             "gridcolor": "white",
             "linecolor": "white",
             "minorgridcolor": "white",
             "startlinecolor": "#2a3f5f"
            },
            "baxis": {
             "endlinecolor": "#2a3f5f",
             "gridcolor": "white",
             "linecolor": "white",
             "minorgridcolor": "white",
             "startlinecolor": "#2a3f5f"
            },
            "type": "carpet"
           }
          ],
          "choropleth": [
           {
            "colorbar": {
             "outlinewidth": 0,
             "ticks": ""
            },
            "type": "choropleth"
           }
          ],
          "contour": [
           {
            "colorbar": {
             "outlinewidth": 0,
             "ticks": ""
            },
            "colorscale": [
             [
              0,
              "#0d0887"
             ],
             [
              0.1111111111111111,
              "#46039f"
             ],
             [
              0.2222222222222222,
              "#7201a8"
             ],
             [
              0.3333333333333333,
              "#9c179e"
             ],
             [
              0.4444444444444444,
              "#bd3786"
             ],
             [
              0.5555555555555556,
              "#d8576b"
             ],
             [
              0.6666666666666666,
              "#ed7953"
             ],
             [
              0.7777777777777778,
              "#fb9f3a"
             ],
             [
              0.8888888888888888,
              "#fdca26"
             ],
             [
              1,
              "#f0f921"
             ]
            ],
            "type": "contour"
           }
          ],
          "contourcarpet": [
           {
            "colorbar": {
             "outlinewidth": 0,
             "ticks": ""
            },
            "type": "contourcarpet"
           }
          ],
          "heatmap": [
           {
            "colorbar": {
             "outlinewidth": 0,
             "ticks": ""
            },
            "colorscale": [
             [
              0,
              "#0d0887"
             ],
             [
              0.1111111111111111,
              "#46039f"
             ],
             [
              0.2222222222222222,
              "#7201a8"
             ],
             [
              0.3333333333333333,
              "#9c179e"
             ],
             [
              0.4444444444444444,
              "#bd3786"
             ],
             [
              0.5555555555555556,
              "#d8576b"
             ],
             [
              0.6666666666666666,
              "#ed7953"
             ],
             [
              0.7777777777777778,
              "#fb9f3a"
             ],
             [
              0.8888888888888888,
              "#fdca26"
             ],
             [
              1,
              "#f0f921"
             ]
            ],
            "type": "heatmap"
           }
          ],
          "heatmapgl": [
           {
            "colorbar": {
             "outlinewidth": 0,
             "ticks": ""
            },
            "colorscale": [
             [
              0,
              "#0d0887"
             ],
             [
              0.1111111111111111,
              "#46039f"
             ],
             [
              0.2222222222222222,
              "#7201a8"
             ],
             [
              0.3333333333333333,
              "#9c179e"
             ],
             [
              0.4444444444444444,
              "#bd3786"
             ],
             [
              0.5555555555555556,
              "#d8576b"
             ],
             [
              0.6666666666666666,
              "#ed7953"
             ],
             [
              0.7777777777777778,
              "#fb9f3a"
             ],
             [
              0.8888888888888888,
              "#fdca26"
             ],
             [
              1,
              "#f0f921"
             ]
            ],
            "type": "heatmapgl"
           }
          ],
          "histogram": [
           {
            "marker": {
             "pattern": {
              "fillmode": "overlay",
              "size": 10,
              "solidity": 0.2
             }
            },
            "type": "histogram"
           }
          ],
          "histogram2d": [
           {
            "colorbar": {
             "outlinewidth": 0,
             "ticks": ""
            },
            "colorscale": [
             [
              0,
              "#0d0887"
             ],
             [
              0.1111111111111111,
              "#46039f"
             ],
             [
              0.2222222222222222,
              "#7201a8"
             ],
             [
              0.3333333333333333,
              "#9c179e"
             ],
             [
              0.4444444444444444,
              "#bd3786"
             ],
             [
              0.5555555555555556,
              "#d8576b"
             ],
             [
              0.6666666666666666,
              "#ed7953"
             ],
             [
              0.7777777777777778,
              "#fb9f3a"
             ],
             [
              0.8888888888888888,
              "#fdca26"
             ],
             [
              1,
              "#f0f921"
             ]
            ],
            "type": "histogram2d"
           }
          ],
          "histogram2dcontour": [
           {
            "colorbar": {
             "outlinewidth": 0,
             "ticks": ""
            },
            "colorscale": [
             [
              0,
              "#0d0887"
             ],
             [
              0.1111111111111111,
              "#46039f"
             ],
             [
              0.2222222222222222,
              "#7201a8"
             ],
             [
              0.3333333333333333,
              "#9c179e"
             ],
             [
              0.4444444444444444,
              "#bd3786"
             ],
             [
              0.5555555555555556,
              "#d8576b"
             ],
             [
              0.6666666666666666,
              "#ed7953"
             ],
             [
              0.7777777777777778,
              "#fb9f3a"
             ],
             [
              0.8888888888888888,
              "#fdca26"
             ],
             [
              1,
              "#f0f921"
             ]
            ],
            "type": "histogram2dcontour"
           }
          ],
          "mesh3d": [
           {
            "colorbar": {
             "outlinewidth": 0,
             "ticks": ""
            },
            "type": "mesh3d"
           }
          ],
          "parcoords": [
           {
            "line": {
             "colorbar": {
              "outlinewidth": 0,
              "ticks": ""
             }
            },
            "type": "parcoords"
           }
          ],
          "pie": [
           {
            "automargin": true,
            "type": "pie"
           }
          ],
          "scatter": [
           {
            "fillpattern": {
             "fillmode": "overlay",
             "size": 10,
             "solidity": 0.2
            },
            "type": "scatter"
           }
          ],
          "scatter3d": [
           {
            "line": {
             "colorbar": {
              "outlinewidth": 0,
              "ticks": ""
             }
            },
            "marker": {
             "colorbar": {
              "outlinewidth": 0,
              "ticks": ""
             }
            },
            "type": "scatter3d"
           }
          ],
          "scattercarpet": [
           {
            "marker": {
             "colorbar": {
              "outlinewidth": 0,
              "ticks": ""
             }
            },
            "type": "scattercarpet"
           }
          ],
          "scattergeo": [
           {
            "marker": {
             "colorbar": {
              "outlinewidth": 0,
              "ticks": ""
             }
            },
            "type": "scattergeo"
           }
          ],
          "scattergl": [
           {
            "marker": {
             "colorbar": {
              "outlinewidth": 0,
              "ticks": ""
             }
            },
            "type": "scattergl"
           }
          ],
          "scattermapbox": [
           {
            "marker": {
             "colorbar": {
              "outlinewidth": 0,
              "ticks": ""
             }
            },
            "type": "scattermapbox"
           }
          ],
          "scatterpolar": [
           {
            "marker": {
             "colorbar": {
              "outlinewidth": 0,
              "ticks": ""
             }
            },
            "type": "scatterpolar"
           }
          ],
          "scatterpolargl": [
           {
            "marker": {
             "colorbar": {
              "outlinewidth": 0,
              "ticks": ""
             }
            },
            "type": "scatterpolargl"
           }
          ],
          "scatterternary": [
           {
            "marker": {
             "colorbar": {
              "outlinewidth": 0,
              "ticks": ""
             }
            },
            "type": "scatterternary"
           }
          ],
          "surface": [
           {
            "colorbar": {
             "outlinewidth": 0,
             "ticks": ""
            },
            "colorscale": [
             [
              0,
              "#0d0887"
             ],
             [
              0.1111111111111111,
              "#46039f"
             ],
             [
              0.2222222222222222,
              "#7201a8"
             ],
             [
              0.3333333333333333,
              "#9c179e"
             ],
             [
              0.4444444444444444,
              "#bd3786"
             ],
             [
              0.5555555555555556,
              "#d8576b"
             ],
             [
              0.6666666666666666,
              "#ed7953"
             ],
             [
              0.7777777777777778,
              "#fb9f3a"
             ],
             [
              0.8888888888888888,
              "#fdca26"
             ],
             [
              1,
              "#f0f921"
             ]
            ],
            "type": "surface"
           }
          ],
          "table": [
           {
            "cells": {
             "fill": {
              "color": "#EBF0F8"
             },
             "line": {
              "color": "white"
             }
            },
            "header": {
             "fill": {
              "color": "#C8D4E3"
             },
             "line": {
              "color": "white"
             }
            },
            "type": "table"
           }
          ]
         },
         "layout": {
          "annotationdefaults": {
           "arrowcolor": "#2a3f5f",
           "arrowhead": 0,
           "arrowwidth": 1
          },
          "autotypenumbers": "strict",
          "coloraxis": {
           "colorbar": {
            "outlinewidth": 0,
            "ticks": ""
           }
          },
          "colorscale": {
           "diverging": [
            [
             0,
             "#8e0152"
            ],
            [
             0.1,
             "#c51b7d"
            ],
            [
             0.2,
             "#de77ae"
            ],
            [
             0.3,
             "#f1b6da"
            ],
            [
             0.4,
             "#fde0ef"
            ],
            [
             0.5,
             "#f7f7f7"
            ],
            [
             0.6,
             "#e6f5d0"
            ],
            [
             0.7,
             "#b8e186"
            ],
            [
             0.8,
             "#7fbc41"
            ],
            [
             0.9,
             "#4d9221"
            ],
            [
             1,
             "#276419"
            ]
           ],
           "sequential": [
            [
             0,
             "#0d0887"
            ],
            [
             0.1111111111111111,
             "#46039f"
            ],
            [
             0.2222222222222222,
             "#7201a8"
            ],
            [
             0.3333333333333333,
             "#9c179e"
            ],
            [
             0.4444444444444444,
             "#bd3786"
            ],
            [
             0.5555555555555556,
             "#d8576b"
            ],
            [
             0.6666666666666666,
             "#ed7953"
            ],
            [
             0.7777777777777778,
             "#fb9f3a"
            ],
            [
             0.8888888888888888,
             "#fdca26"
            ],
            [
             1,
             "#f0f921"
            ]
           ],
           "sequentialminus": [
            [
             0,
             "#0d0887"
            ],
            [
             0.1111111111111111,
             "#46039f"
            ],
            [
             0.2222222222222222,
             "#7201a8"
            ],
            [
             0.3333333333333333,
             "#9c179e"
            ],
            [
             0.4444444444444444,
             "#bd3786"
            ],
            [
             0.5555555555555556,
             "#d8576b"
            ],
            [
             0.6666666666666666,
             "#ed7953"
            ],
            [
             0.7777777777777778,
             "#fb9f3a"
            ],
            [
             0.8888888888888888,
             "#fdca26"
            ],
            [
             1,
             "#f0f921"
            ]
           ]
          },
          "colorway": [
           "#636efa",
           "#EF553B",
           "#00cc96",
           "#ab63fa",
           "#FFA15A",
           "#19d3f3",
           "#FF6692",
           "#B6E880",
           "#FF97FF",
           "#FECB52"
          ],
          "font": {
           "color": "#2a3f5f"
          },
          "geo": {
           "bgcolor": "white",
           "lakecolor": "white",
           "landcolor": "#E5ECF6",
           "showlakes": true,
           "showland": true,
           "subunitcolor": "white"
          },
          "hoverlabel": {
           "align": "left"
          },
          "hovermode": "closest",
          "mapbox": {
           "style": "light"
          },
          "paper_bgcolor": "white",
          "plot_bgcolor": "#E5ECF6",
          "polar": {
           "angularaxis": {
            "gridcolor": "white",
            "linecolor": "white",
            "ticks": ""
           },
           "bgcolor": "#E5ECF6",
           "radialaxis": {
            "gridcolor": "white",
            "linecolor": "white",
            "ticks": ""
           }
          },
          "scene": {
           "xaxis": {
            "backgroundcolor": "#E5ECF6",
            "gridcolor": "white",
            "gridwidth": 2,
            "linecolor": "white",
            "showbackground": true,
            "ticks": "",
            "zerolinecolor": "white"
           },
           "yaxis": {
            "backgroundcolor": "#E5ECF6",
            "gridcolor": "white",
            "gridwidth": 2,
            "linecolor": "white",
            "showbackground": true,
            "ticks": "",
            "zerolinecolor": "white"
           },
           "zaxis": {
            "backgroundcolor": "#E5ECF6",
            "gridcolor": "white",
            "gridwidth": 2,
            "linecolor": "white",
            "showbackground": true,
            "ticks": "",
            "zerolinecolor": "white"
           }
          },
          "shapedefaults": {
           "line": {
            "color": "#2a3f5f"
           }
          },
          "ternary": {
           "aaxis": {
            "gridcolor": "white",
            "linecolor": "white",
            "ticks": ""
           },
           "baxis": {
            "gridcolor": "white",
            "linecolor": "white",
            "ticks": ""
           },
           "bgcolor": "#E5ECF6",
           "caxis": {
            "gridcolor": "white",
            "linecolor": "white",
            "ticks": ""
           }
          },
          "title": {
           "x": 0.05
          },
          "xaxis": {
           "automargin": true,
           "gridcolor": "white",
           "linecolor": "white",
           "ticks": "",
           "title": {
            "standoff": 15
           },
           "zerolinecolor": "white",
           "zerolinewidth": 2
          },
          "yaxis": {
           "automargin": true,
           "gridcolor": "white",
           "linecolor": "white",
           "ticks": "",
           "title": {
            "standoff": 15
           },
           "zerolinecolor": "white",
           "zerolinewidth": 2
          }
         }
        },
        "width": 1500
       }
      }
     },
     "metadata": {},
     "output_type": "display_data"
    }
   ],
   "source": [
    "categories = drugs_agg_long.columns.tolist()\n",
    "\n",
    "fig = sp.make_subplots(rows=2, cols=4, horizontal_spacing=0.1, specs=[[{'type': 'polar'}, {'type': 'polar'}, {'type': 'polar'}, {'type': 'polar'}], [{'type': 'polar'}, {'type': 'polar'}, {'type': 'polar'}, {'type': 'polar'}]])\n",
    "\n",
    "for i in range(len(drugs_agg_long.index)):\n",
    "    fig.add_trace(go.Scatterpolar(\n",
    "      r=drugs_agg_long.iloc[i],\n",
    "      theta=categories,\n",
    "      fill='toself',\n",
    "      name=drugs_agg_long.index[i]\n",
    "    ), row=i//4+1, col=i%4+1)\n",
    "\n",
    "fig.update_layout(height=800, width=1500)\n",
    "fig.update_layout(polar=dict(radialaxis=dict(range=[0, 1])), polar2=dict(radialaxis=dict(range=[0, 1])), polar3=dict(radialaxis=dict(range=[0, 1])), polar4=dict(radialaxis=dict(range=[0, 1])), polar5=dict(radialaxis=dict(range=[0, 1])), polar6=dict(radialaxis=dict(range=[0, 1])), polar7=dict(radialaxis=dict(range=[0, 1])), polar8=dict(radialaxis=dict(range=[0, 1])))\n",
    "\n",
    "fig.show()\n"
   ]
  }
 ],
 "metadata": {
  "kernelspec": {
   "display_name": "base",
   "language": "python",
   "name": "python3"
  },
  "language_info": {
   "codemirror_mode": {
    "name": "ipython",
    "version": 3
   },
   "file_extension": ".py",
   "mimetype": "text/x-python",
   "name": "python",
   "nbconvert_exporter": "python",
   "pygments_lexer": "ipython3",
   "version": "3.12.0"
  }
 },
 "nbformat": 4,
 "nbformat_minor": 2
}
