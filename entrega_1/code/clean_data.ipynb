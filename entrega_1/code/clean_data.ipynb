{
 "cells": [
  {
   "cell_type": "markdown",
   "id": "6d7b1978",
   "metadata": {},
   "source": [
    "# DRUG CONSUMPTION - GRUPO 1"
   ]
  },
  {
   "cell_type": "markdown",
   "id": "310f0682",
   "metadata": {},
   "source": [
    "Realizado por:\n",
    "* **Alejandro López-Fando Fernández**  \n",
    "* **Jerson Peña Martínez**  \n",
    "* **Manuela Larrea**"
   ]
  },
  {
   "cell_type": "markdown",
   "id": "eb1183fc",
   "metadata": {},
   "source": [
    "Versiones:\n",
    "* Versión Python: **3.11.5**  \n",
    "* Versión Pandas: **2.0.3**  "
   ]
  },
  {
   "cell_type": "code",
   "execution_count": 1,
   "id": "b43d9ca4",
   "metadata": {},
   "outputs": [],
   "source": [
    "import sys\n",
    "import pandas as pd\n",
    "import utilities.constants as cte"
   ]
  },
  {
   "cell_type": "markdown",
   "id": "0cbbfc64",
   "metadata": {},
   "source": [
    "En la carpeta utilities se encuentra el script constants.py con constantes, esta manera de organizar las cosas hará que el código quede más limpio.  \n",
    "Leamos el set de datos descargado de la siguiente url:  \n",
    "https://archive.ics.uci.edu/dataset/373/drug+consumption+quantified"
   ]
  },
  {
   "cell_type": "code",
   "execution_count": 2,
   "id": "79b9b107",
   "metadata": {},
   "outputs": [],
   "source": [
    "df = pd.read_csv('../data/drug_consumption.data', sep=',', header=None, names=cte.names)"
   ]
  },
  {
   "cell_type": "markdown",
   "id": "2aa2fe1e",
   "metadata": {},
   "source": [
    "Transformamos las columnas para ser capaces de entender el set de datos. Para la transformación seguimos el guión que nos proponen en la url."
   ]
  },
  {
   "cell_type": "code",
   "execution_count": 3,
   "id": "a27769d3",
   "metadata": {},
   "outputs": [],
   "source": [
    "df.age = df.age.apply(lambda row: cte.age_values[row])\n",
    "df.gender = df.gender.apply(lambda row: cte.gender_values[row])\n",
    "df.education = df.education.apply(lambda row: cte.education_values[row])\n",
    "df.country = df.country.apply(lambda row: cte.country_values[row])\n",
    "df.ethnicity = df.ethnicity.apply(lambda row: cte.ethnicity_values[row])\n",
    "for droga in cte.all_drugs_columns:\n",
    "    df[droga] = df[droga].apply(lambda row: cte.drugs_values[row])"
   ]
  },
  {
   "cell_type": "markdown",
   "id": "878a1929",
   "metadata": {},
   "source": [
    "Hagamos un primer exploratorio de nuestro DataFrame."
   ]
  },
  {
   "cell_type": "markdown",
   "id": "75d913b9",
   "metadata": {},
   "source": [
    "¿Cuántas filas y columnas tenemos?"
   ]
  },
  {
   "cell_type": "code",
   "execution_count": 4,
   "id": "a3cca91a",
   "metadata": {},
   "outputs": [
    {
     "data": {
      "text/plain": [
       "(1885, 32)"
      ]
     },
     "execution_count": 4,
     "metadata": {},
     "output_type": "execute_result"
    }
   ],
   "source": [
    "df.shape"
   ]
  },
  {
   "cell_type": "markdown",
   "id": "6c53adfe",
   "metadata": {},
   "source": [
    "¿Tenemos valores nulos?"
   ]
  },
  {
   "cell_type": "code",
   "execution_count": 5,
   "id": "8d3a9964",
   "metadata": {
    "scrolled": false
   },
   "outputs": [
    {
     "data": {
      "text/plain": [
       "id                   0\n",
       "age                  0\n",
       "gender               0\n",
       "education            0\n",
       "country              0\n",
       "ethnicity            0\n",
       "n_score              0\n",
       "e_score              0\n",
       "o_score              0\n",
       "a_score              0\n",
       "c_score              0\n",
       "impulsive            0\n",
       "sensation_seeking    0\n",
       "alcohol              0\n",
       "amphet               0\n",
       "amyl                 0\n",
       "benzos               0\n",
       "caffeine             0\n",
       "cannabis             0\n",
       "chocolate            0\n",
       "cocaine              0\n",
       "crack                0\n",
       "ecstasy              0\n",
       "heroin               0\n",
       "ketamine             0\n",
       "legal_highs          0\n",
       "lsd                  0\n",
       "methadone            0\n",
       "mushrooms            0\n",
       "nicotine             0\n",
       "semer                0\n",
       "vsa                  0\n",
       "dtype: int64"
      ]
     },
     "execution_count": 5,
     "metadata": {},
     "output_type": "execute_result"
    }
   ],
   "source": [
    "df.isna().sum()"
   ]
  },
  {
   "cell_type": "markdown",
   "id": "1fedb7f5",
   "metadata": {},
   "source": [
    "Observamos que en ninguna columna tenemos valores nulos.  \n",
    "¿El tipo de nuestras columnas es el adecuado?"
   ]
  },
  {
   "cell_type": "code",
   "execution_count": 6,
   "id": "9b885d95",
   "metadata": {},
   "outputs": [
    {
     "data": {
      "text/plain": [
       "id                     int64\n",
       "age                   object\n",
       "gender                object\n",
       "education             object\n",
       "country               object\n",
       "ethnicity             object\n",
       "n_score              float64\n",
       "e_score              float64\n",
       "o_score              float64\n",
       "a_score              float64\n",
       "c_score              float64\n",
       "impulsive            float64\n",
       "sensation_seeking    float64\n",
       "alcohol               object\n",
       "amphet                object\n",
       "amyl                  object\n",
       "benzos                object\n",
       "caffeine              object\n",
       "cannabis              object\n",
       "chocolate             object\n",
       "cocaine               object\n",
       "crack                 object\n",
       "ecstasy               object\n",
       "heroin                object\n",
       "ketamine              object\n",
       "legal_highs           object\n",
       "lsd                   object\n",
       "methadone             object\n",
       "mushrooms             object\n",
       "nicotine              object\n",
       "semer                 object\n",
       "vsa                   object\n",
       "dtype: object"
      ]
     },
     "execution_count": 6,
     "metadata": {},
     "output_type": "execute_result"
    }
   ],
   "source": [
    "df.dtypes"
   ]
  },
  {
   "cell_type": "markdown",
   "id": "39f8d1d1",
   "metadata": {},
   "source": [
    "En principio, salvo el Id que estaría mejor siendo de tipo object, el resto de columnas tienen buena pinta. Veamos el Id."
   ]
  },
  {
   "cell_type": "code",
   "execution_count": 7,
   "id": "9b3e469a",
   "metadata": {},
   "outputs": [
    {
     "data": {
      "text/plain": [
       "0    1\n",
       "1    2\n",
       "2    3\n",
       "3    4\n",
       "4    5\n",
       "Name: id, dtype: int64"
      ]
     },
     "execution_count": 7,
     "metadata": {},
     "output_type": "execute_result"
    }
   ],
   "source": [
    "df.id.head()"
   ]
  },
  {
   "cell_type": "markdown",
   "id": "fbf8e71b",
   "metadata": {},
   "source": [
    "La columna Id no es más que un índice y, para lo que vamos a hacer en este trabajo, no nos aporta nada luego decidimos borrar esta columna."
   ]
  },
  {
   "cell_type": "code",
   "execution_count": 8,
   "id": "6931c22b",
   "metadata": {},
   "outputs": [],
   "source": [
    "del df['id']"
   ]
  },
  {
   "cell_type": "markdown",
   "id": "ca97c681",
   "metadata": {},
   "source": [
    "La 'droga' Semeron es una droga ficticia que se inventaron los que hicieron el set de datos para identificar mentirosos, veamos cuanta gente ha dicho que alguna vez consumió esta droga inventada."
   ]
  },
  {
   "cell_type": "code",
   "execution_count": 9,
   "id": "2dcc77bc",
   "metadata": {},
   "outputs": [
    {
     "data": {
      "text/plain": [
       "8"
      ]
     },
     "execution_count": 9,
     "metadata": {},
     "output_type": "execute_result"
    }
   ],
   "source": [
    "df.loc[df.semer != 'Never Used', 'semer'].count()"
   ]
  },
  {
   "cell_type": "markdown",
   "id": "300ee6e8",
   "metadata": {},
   "source": [
    "Vemos que 8 personas han mentido como mínimo diciendo que han consumido Semeron, al ser solo 8 registros y por si acaso han mentido en algún otro campo decidimos borrar estos registros de nuestro DataFrame. Por tanto también eliminamos la columna Semeron de nuestro DataFrame ya que ya no proporciona información."
   ]
  },
  {
   "cell_type": "code",
   "execution_count": 10,
   "id": "f44022d9",
   "metadata": {},
   "outputs": [],
   "source": [
    "df = df.loc[df.semer == 'Never Used'].reset_index(drop=True)\n",
    "del df['semer']"
   ]
  },
  {
   "cell_type": "markdown",
   "id": "4cfc0219",
   "metadata": {},
   "source": [
    "Busquemos ahora outliers o datos que sean un poco extraños, por ejemplo gente que esté entre 18-24 años y hayan consumido alguna droga hace más de 10 años."
   ]
  },
  {
   "cell_type": "code",
   "execution_count": 11,
   "id": "1f5f019a",
   "metadata": {
    "scrolled": true
   },
   "outputs": [
    {
     "name": "stdout",
     "output_type": "stream",
     "text": [
      "Hay 0 personas menores de 24 años que han consumido alcohol hace más de 10 años.\n",
      "Hay 1 personas menores de 24 años que han consumido amphet hace más de 10 años.\n",
      "Hay 2 personas menores de 24 años que han consumido amyl hace más de 10 años.\n",
      "Hay 3 personas menores de 24 años que han consumido benzos hace más de 10 años.\n",
      "Hay 1 personas menores de 24 años que han consumido caffeine hace más de 10 años.\n",
      "Hay 3 personas menores de 24 años que han consumido cannabis hace más de 10 años.\n",
      "Hay 0 personas menores de 24 años que han consumido chocolate hace más de 10 años.\n",
      "Hay 3 personas menores de 24 años que han consumido cocaine hace más de 10 años.\n",
      "Hay 1 personas menores de 24 años que han consumido crack hace más de 10 años.\n",
      "Hay 0 personas menores de 24 años que han consumido ecstasy hace más de 10 años.\n",
      "Hay 0 personas menores de 24 años que han consumido heroin hace más de 10 años.\n",
      "Hay 0 personas menores de 24 años que han consumido ketamine hace más de 10 años.\n",
      "Hay 1 personas menores de 24 años que han consumido legal_highs hace más de 10 años.\n",
      "Hay 1 personas menores de 24 años que han consumido lsd hace más de 10 años.\n",
      "Hay 1 personas menores de 24 años que han consumido methadone hace más de 10 años.\n",
      "Hay 0 personas menores de 24 años que han consumido mushrooms hace más de 10 años.\n",
      "Hay 2 personas menores de 24 años que han consumido nicotine hace más de 10 años.\n",
      "Hay 16 personas menores de 24 años que han consumido vsa hace más de 10 años.\n"
     ]
    }
   ],
   "source": [
    "for droga in cte.drugs_columns:\n",
    "    n = df.loc[(df.age == '18-24') & (df[droga] == 'Used over a Decade Ago'), droga].count()\n",
    "    print(f'Hay {n} personas menores de 24 años que han consumido {droga} hace más de 10 años.')"
   ]
  },
  {
   "cell_type": "markdown",
   "id": "399be674",
   "metadata": {},
   "source": [
    "Al haber pocos registros de gente que haya consumido droga siendo muy jóvenes podemos creernos que son excepciones y son reales, por tanto decidimos mantener estos registros. Observamos que 16 personas consumieron vsa siendo muy jóvenes, pero, tras informarnos, vimos que el consumo de drogas inhalantes (Por ejemplo, pegamento) puede ser considerado en esta categoría y, por tanto, mantenemos también estos 16 registros."
   ]
  },
  {
   "cell_type": "markdown",
   "id": "1e0b8f08",
   "metadata": {},
   "source": [
    "Hagamos un exploratorio un poco más profundo de nuestras columnas, el objetivo es agrupar los valores que puede tomar cada columna para tener mayor representatividad de cada categoría. Además conseguiremos tener menos categorías en cada columna y así poder sacar insights y gráficos más claros."
   ]
  },
  {
   "cell_type": "markdown",
   "id": "ae82344d",
   "metadata": {},
   "source": [
    "Empecemos por la columna de la edad."
   ]
  },
  {
   "cell_type": "code",
   "execution_count": 12,
   "id": "46571ebc",
   "metadata": {},
   "outputs": [
    {
     "data": {
      "text/html": [
       "<div>\n",
       "<style scoped>\n",
       "    .dataframe tbody tr th:only-of-type {\n",
       "        vertical-align: middle;\n",
       "    }\n",
       "\n",
       "    .dataframe tbody tr th {\n",
       "        vertical-align: top;\n",
       "    }\n",
       "\n",
       "    .dataframe thead th {\n",
       "        text-align: right;\n",
       "    }\n",
       "</style>\n",
       "<table border=\"1\" class=\"dataframe\">\n",
       "  <thead>\n",
       "    <tr style=\"text-align: right;\">\n",
       "      <th></th>\n",
       "      <th>n_registros</th>\n",
       "      <th>porcentaje</th>\n",
       "    </tr>\n",
       "    <tr>\n",
       "      <th>age</th>\n",
       "      <th></th>\n",
       "      <th></th>\n",
       "    </tr>\n",
       "  </thead>\n",
       "  <tbody>\n",
       "    <tr>\n",
       "      <th>18-24</th>\n",
       "      <td>637</td>\n",
       "      <td>33.937134</td>\n",
       "    </tr>\n",
       "    <tr>\n",
       "      <th>25-34</th>\n",
       "      <td>480</td>\n",
       "      <td>25.572722</td>\n",
       "    </tr>\n",
       "    <tr>\n",
       "      <th>35-44</th>\n",
       "      <td>355</td>\n",
       "      <td>18.913159</td>\n",
       "    </tr>\n",
       "    <tr>\n",
       "      <th>45-54</th>\n",
       "      <td>294</td>\n",
       "      <td>15.663292</td>\n",
       "    </tr>\n",
       "    <tr>\n",
       "      <th>55-64</th>\n",
       "      <td>93</td>\n",
       "      <td>4.954715</td>\n",
       "    </tr>\n",
       "    <tr>\n",
       "      <th>65+</th>\n",
       "      <td>18</td>\n",
       "      <td>0.958977</td>\n",
       "    </tr>\n",
       "  </tbody>\n",
       "</table>\n",
       "</div>"
      ],
      "text/plain": [
       "       n_registros  porcentaje\n",
       "age                           \n",
       "18-24          637   33.937134\n",
       "25-34          480   25.572722\n",
       "35-44          355   18.913159\n",
       "45-54          294   15.663292\n",
       "55-64           93    4.954715\n",
       "65+             18    0.958977"
      ]
     },
     "execution_count": 12,
     "metadata": {},
     "output_type": "execute_result"
    }
   ],
   "source": [
    "cont_reg_valor = df['age'].value_counts()\n",
    "porcen_reg_valor = (cont_reg_valor / df.shape[0]) * 100\n",
    "pd.DataFrame({'n_registros' : cont_reg_valor, 'porcentaje' : porcen_reg_valor})"
   ]
  },
  {
   "cell_type": "markdown",
   "id": "116c1bec",
   "metadata": {},
   "source": [
    "Para la columna age decidimos agrupar el grupo de personas con 65+ años con el grupo de personas de 55-64 años ya que tenemos menos de un 1% de personas con 65+ años y son dos grupos de población parecidos. El nuevo grupo sera 55+."
   ]
  },
  {
   "cell_type": "code",
   "execution_count": 13,
   "id": "dea24fbe",
   "metadata": {},
   "outputs": [],
   "source": [
    "df.age = df.age.apply(lambda row: '55+' if row in ['55-64', '65+'] else row)"
   ]
  },
  {
   "cell_type": "markdown",
   "id": "9f81c67a",
   "metadata": {},
   "source": [
    "Veamos ahora la columna del género."
   ]
  },
  {
   "cell_type": "code",
   "execution_count": 14,
   "id": "7f0156fd",
   "metadata": {
    "scrolled": true
   },
   "outputs": [
    {
     "data": {
      "text/html": [
       "<div>\n",
       "<style scoped>\n",
       "    .dataframe tbody tr th:only-of-type {\n",
       "        vertical-align: middle;\n",
       "    }\n",
       "\n",
       "    .dataframe tbody tr th {\n",
       "        vertical-align: top;\n",
       "    }\n",
       "\n",
       "    .dataframe thead th {\n",
       "        text-align: right;\n",
       "    }\n",
       "</style>\n",
       "<table border=\"1\" class=\"dataframe\">\n",
       "  <thead>\n",
       "    <tr style=\"text-align: right;\">\n",
       "      <th></th>\n",
       "      <th>n_registros</th>\n",
       "      <th>porcentaje</th>\n",
       "    </tr>\n",
       "    <tr>\n",
       "      <th>gender</th>\n",
       "      <th></th>\n",
       "      <th></th>\n",
       "    </tr>\n",
       "  </thead>\n",
       "  <tbody>\n",
       "    <tr>\n",
       "      <th>Male</th>\n",
       "      <td>940</td>\n",
       "      <td>50.079915</td>\n",
       "    </tr>\n",
       "    <tr>\n",
       "      <th>Female</th>\n",
       "      <td>937</td>\n",
       "      <td>49.920085</td>\n",
       "    </tr>\n",
       "  </tbody>\n",
       "</table>\n",
       "</div>"
      ],
      "text/plain": [
       "        n_registros  porcentaje\n",
       "gender                         \n",
       "Male            940   50.079915\n",
       "Female          937   49.920085"
      ]
     },
     "execution_count": 14,
     "metadata": {},
     "output_type": "execute_result"
    }
   ],
   "source": [
    "cont_reg_valor = df['gender'].value_counts()\n",
    "porcen_reg_valor = (cont_reg_valor / df.shape[0]) * 100\n",
    "pd.DataFrame({'n_registros' : cont_reg_valor, 'porcentaje' : porcen_reg_valor})"
   ]
  },
  {
   "cell_type": "markdown",
   "id": "3bf174ee",
   "metadata": {},
   "source": [
    "La columna género está muy bien ya que tenemos 50% de hombres y 50% de mujeres, por lo que esta columna no la tocamos."
   ]
  },
  {
   "cell_type": "markdown",
   "id": "0ff3aff5",
   "metadata": {},
   "source": [
    "Sigamos con la columna de educación."
   ]
  },
  {
   "cell_type": "code",
   "execution_count": 15,
   "id": "c22a38f8",
   "metadata": {
    "scrolled": true
   },
   "outputs": [
    {
     "data": {
      "text/html": [
       "<div>\n",
       "<style scoped>\n",
       "    .dataframe tbody tr th:only-of-type {\n",
       "        vertical-align: middle;\n",
       "    }\n",
       "\n",
       "    .dataframe tbody tr th {\n",
       "        vertical-align: top;\n",
       "    }\n",
       "\n",
       "    .dataframe thead th {\n",
       "        text-align: right;\n",
       "    }\n",
       "</style>\n",
       "<table border=\"1\" class=\"dataframe\">\n",
       "  <thead>\n",
       "    <tr style=\"text-align: right;\">\n",
       "      <th></th>\n",
       "      <th>n_registros</th>\n",
       "      <th>porcentaje</th>\n",
       "    </tr>\n",
       "    <tr>\n",
       "      <th>education</th>\n",
       "      <th></th>\n",
       "      <th></th>\n",
       "    </tr>\n",
       "  </thead>\n",
       "  <tbody>\n",
       "    <tr>\n",
       "      <th>Some college or university, no certificate or degree</th>\n",
       "      <td>503</td>\n",
       "      <td>26.798082</td>\n",
       "    </tr>\n",
       "    <tr>\n",
       "      <th>University degree</th>\n",
       "      <td>478</td>\n",
       "      <td>25.466169</td>\n",
       "    </tr>\n",
       "    <tr>\n",
       "      <th>Masters degree</th>\n",
       "      <td>283</td>\n",
       "      <td>15.077251</td>\n",
       "    </tr>\n",
       "    <tr>\n",
       "      <th>Professional certificate/diploma</th>\n",
       "      <td>270</td>\n",
       "      <td>14.384656</td>\n",
       "    </tr>\n",
       "    <tr>\n",
       "      <th>Left school at 18 years</th>\n",
       "      <td>99</td>\n",
       "      <td>5.274374</td>\n",
       "    </tr>\n",
       "    <tr>\n",
       "      <th>Left school at 16 years</th>\n",
       "      <td>98</td>\n",
       "      <td>5.221097</td>\n",
       "    </tr>\n",
       "    <tr>\n",
       "      <th>Doctorate degree</th>\n",
       "      <td>89</td>\n",
       "      <td>4.741609</td>\n",
       "    </tr>\n",
       "    <tr>\n",
       "      <th>Left school at 17 years</th>\n",
       "      <td>29</td>\n",
       "      <td>1.545019</td>\n",
       "    </tr>\n",
       "    <tr>\n",
       "      <th>Left school before 16 years</th>\n",
       "      <td>28</td>\n",
       "      <td>1.491742</td>\n",
       "    </tr>\n",
       "  </tbody>\n",
       "</table>\n",
       "</div>"
      ],
      "text/plain": [
       "                                                    n_registros  porcentaje\n",
       "education                                                                  \n",
       "Some college or university, no certificate or d...          503   26.798082\n",
       "University degree                                           478   25.466169\n",
       "Masters degree                                              283   15.077251\n",
       "Professional certificate/diploma                            270   14.384656\n",
       "Left school at 18 years                                      99    5.274374\n",
       "Left school at 16 years                                      98    5.221097\n",
       "Doctorate degree                                             89    4.741609\n",
       "Left school at 17 years                                      29    1.545019\n",
       "Left school before 16 years                                  28    1.491742"
      ]
     },
     "execution_count": 15,
     "metadata": {},
     "output_type": "execute_result"
    }
   ],
   "source": [
    "cont_reg_valor = df['education'].value_counts()\n",
    "porcen_reg_valor = (cont_reg_valor / df.shape[0]) * 100\n",
    "pd.DataFrame({'n_registros' : cont_reg_valor, 'porcentaje' : porcen_reg_valor})"
   ]
  },
  {
   "cell_type": "markdown",
   "id": "09289b6d",
   "metadata": {},
   "source": [
    "Para la columna education agrupamos las personas que abandonaron la escuela antes de los 18 años en una sola categoría llamada 'Personas sin estudios'. Por otro lado, agrupamos las personas con un grado universitario/master/doctorado, en la categoría 'Personas con estudios superiores'. En cuanto a Professional certificate/diploma, renombramos la categoria 'Estudios de FP', la cual está conformadas por estudiantes y personas con un título de formación profesional. Finalmente, se renombró la categoria Some college or university, no certificate or degree con la categoría 'Estudiando'. Así conseguimos tener 4 grupos de personas que más o menos tienen una educación similar, al pasar de 9 grupos a 4 conseguimos tener mayor representatividad en los grupos y que los gráficos sean más claros."
   ]
  },
  {
   "cell_type": "code",
   "execution_count": 16,
   "id": "92ed8f22",
   "metadata": {},
   "outputs": [],
   "source": [
    "df.education = df.education.apply(lambda row: cte.education_values_grouped[row])"
   ]
  },
  {
   "cell_type": "markdown",
   "id": "a75e544c",
   "metadata": {},
   "source": [
    "Veamos ahora la columna de país."
   ]
  },
  {
   "cell_type": "code",
   "execution_count": 17,
   "id": "8ca95426",
   "metadata": {},
   "outputs": [
    {
     "data": {
      "text/html": [
       "<div>\n",
       "<style scoped>\n",
       "    .dataframe tbody tr th:only-of-type {\n",
       "        vertical-align: middle;\n",
       "    }\n",
       "\n",
       "    .dataframe tbody tr th {\n",
       "        vertical-align: top;\n",
       "    }\n",
       "\n",
       "    .dataframe thead th {\n",
       "        text-align: right;\n",
       "    }\n",
       "</style>\n",
       "<table border=\"1\" class=\"dataframe\">\n",
       "  <thead>\n",
       "    <tr style=\"text-align: right;\">\n",
       "      <th></th>\n",
       "      <th>n_registros</th>\n",
       "      <th>porcentaje</th>\n",
       "    </tr>\n",
       "    <tr>\n",
       "      <th>country</th>\n",
       "      <th></th>\n",
       "      <th></th>\n",
       "    </tr>\n",
       "  </thead>\n",
       "  <tbody>\n",
       "    <tr>\n",
       "      <th>UK</th>\n",
       "      <td>1044</td>\n",
       "      <td>55.620671</td>\n",
       "    </tr>\n",
       "    <tr>\n",
       "      <th>USA</th>\n",
       "      <td>551</td>\n",
       "      <td>29.355354</td>\n",
       "    </tr>\n",
       "    <tr>\n",
       "      <th>Other</th>\n",
       "      <td>118</td>\n",
       "      <td>6.286628</td>\n",
       "    </tr>\n",
       "    <tr>\n",
       "      <th>Canada</th>\n",
       "      <td>87</td>\n",
       "      <td>4.635056</td>\n",
       "    </tr>\n",
       "    <tr>\n",
       "      <th>Australia</th>\n",
       "      <td>52</td>\n",
       "      <td>2.770378</td>\n",
       "    </tr>\n",
       "    <tr>\n",
       "      <th>Republic of Ireland</th>\n",
       "      <td>20</td>\n",
       "      <td>1.065530</td>\n",
       "    </tr>\n",
       "    <tr>\n",
       "      <th>New Zealand</th>\n",
       "      <td>5</td>\n",
       "      <td>0.266383</td>\n",
       "    </tr>\n",
       "  </tbody>\n",
       "</table>\n",
       "</div>"
      ],
      "text/plain": [
       "                     n_registros  porcentaje\n",
       "country                                     \n",
       "UK                          1044   55.620671\n",
       "USA                          551   29.355354\n",
       "Other                        118    6.286628\n",
       "Canada                        87    4.635056\n",
       "Australia                     52    2.770378\n",
       "Republic of Ireland           20    1.065530\n",
       "New Zealand                    5    0.266383"
      ]
     },
     "execution_count": 17,
     "metadata": {},
     "output_type": "execute_result"
    }
   ],
   "source": [
    "cont_reg_valor = df['country'].value_counts()\n",
    "porcen_reg_valor = (cont_reg_valor / df.shape[0]) * 100\n",
    "pd.DataFrame({'n_registros' : cont_reg_valor, 'porcentaje' : porcen_reg_valor})"
   ]
  },
  {
   "cell_type": "markdown",
   "id": "d860f03b",
   "metadata": {},
   "source": [
    "En la columna country solo tenemos buena representación para UK y USA, sin embargo no vamos a borrar registros ya que aunque los registros de New Zealand no nos sirvan para hacer gráficos por país, sí son útiles para hacer gráficos por género/edad/educación...  \n",
    "Lo que haremos para hacer gráficos por país será comparar UK y USA, por ello creamos un DataFrame con las personas que son de Uk o USA."
   ]
  },
  {
   "cell_type": "code",
   "execution_count": 18,
   "id": "aa34e5b2",
   "metadata": {},
   "outputs": [],
   "source": [
    "df_uk_usa = df.loc[(df.country == 'UK') | (df.country == 'USA')]"
   ]
  },
  {
   "cell_type": "markdown",
   "id": "51e1264c",
   "metadata": {},
   "source": [
    "Sigamos con la columna de etnia."
   ]
  },
  {
   "cell_type": "code",
   "execution_count": 19,
   "id": "3a117de7",
   "metadata": {},
   "outputs": [
    {
     "data": {
      "text/html": [
       "<div>\n",
       "<style scoped>\n",
       "    .dataframe tbody tr th:only-of-type {\n",
       "        vertical-align: middle;\n",
       "    }\n",
       "\n",
       "    .dataframe tbody tr th {\n",
       "        vertical-align: top;\n",
       "    }\n",
       "\n",
       "    .dataframe thead th {\n",
       "        text-align: right;\n",
       "    }\n",
       "</style>\n",
       "<table border=\"1\" class=\"dataframe\">\n",
       "  <thead>\n",
       "    <tr style=\"text-align: right;\">\n",
       "      <th></th>\n",
       "      <th>n_registros</th>\n",
       "      <th>porcentaje</th>\n",
       "    </tr>\n",
       "    <tr>\n",
       "      <th>ethnicity</th>\n",
       "      <th></th>\n",
       "      <th></th>\n",
       "    </tr>\n",
       "  </thead>\n",
       "  <tbody>\n",
       "    <tr>\n",
       "      <th>White</th>\n",
       "      <td>1715</td>\n",
       "      <td>91.369206</td>\n",
       "    </tr>\n",
       "    <tr>\n",
       "      <th>Other</th>\n",
       "      <td>62</td>\n",
       "      <td>3.303143</td>\n",
       "    </tr>\n",
       "    <tr>\n",
       "      <th>Black</th>\n",
       "      <td>33</td>\n",
       "      <td>1.758125</td>\n",
       "    </tr>\n",
       "    <tr>\n",
       "      <th>Asian</th>\n",
       "      <td>25</td>\n",
       "      <td>1.331913</td>\n",
       "    </tr>\n",
       "    <tr>\n",
       "      <th>Mixed-White/Asian</th>\n",
       "      <td>20</td>\n",
       "      <td>1.065530</td>\n",
       "    </tr>\n",
       "    <tr>\n",
       "      <th>Mixed-White/Black</th>\n",
       "      <td>19</td>\n",
       "      <td>1.012254</td>\n",
       "    </tr>\n",
       "    <tr>\n",
       "      <th>Mixed-Black/Asian</th>\n",
       "      <td>3</td>\n",
       "      <td>0.159830</td>\n",
       "    </tr>\n",
       "  </tbody>\n",
       "</table>\n",
       "</div>"
      ],
      "text/plain": [
       "                   n_registros  porcentaje\n",
       "ethnicity                                 \n",
       "White                     1715   91.369206\n",
       "Other                       62    3.303143\n",
       "Black                       33    1.758125\n",
       "Asian                       25    1.331913\n",
       "Mixed-White/Asian           20    1.065530\n",
       "Mixed-White/Black           19    1.012254\n",
       "Mixed-Black/Asian            3    0.159830"
      ]
     },
     "execution_count": 19,
     "metadata": {},
     "output_type": "execute_result"
    }
   ],
   "source": [
    "cont_reg_valor = df['ethnicity'].value_counts()\n",
    "porcen_reg_valor = (cont_reg_valor / df.shape[0]) * 100\n",
    "pd.DataFrame({'n_registros' : cont_reg_valor, 'porcentaje' : porcen_reg_valor})"
   ]
  },
  {
   "cell_type": "markdown",
   "id": "80f8a413",
   "metadata": {},
   "source": [
    "Como vemos más del 90% de nuestros registros son gente blanca y del resto de etnias no tenemos apenas representatividad, por tanto decidimos que no sacaremos ningún insight por etnia, luego borramos la columna."
   ]
  },
  {
   "cell_type": "code",
   "execution_count": 20,
   "id": "62922914",
   "metadata": {},
   "outputs": [],
   "source": [
    "del df['ethnicity']"
   ]
  },
  {
   "cell_type": "markdown",
   "id": "1b1d35fe",
   "metadata": {},
   "source": [
    "Respecto a las drogas que tenemos en nuestro DataFrame haremos lo siguiente:"
   ]
  },
  {
   "cell_type": "markdown",
   "id": "592b654c",
   "metadata": {},
   "source": [
    "1- Para cada droga vamos a transformar las 7 categorías (Never Used, Used over a Decade Ago, Used in Last Decade, Used in Last Year, Used in Last Month, Used in Last Week, Used in Last Day) en 2, lo haremos de la siguiente forma:  \n",
    "* Consume (1) -> Formado por Used in Last Year, Used in Last Month, Used in Last Week y Used in Last Day  \n",
    "* No consume (0) -> Formado por Never Used, Used over a Decade Ago y Used in Last Decade"
   ]
  },
  {
   "cell_type": "code",
   "execution_count": 21,
   "id": "c224e767",
   "metadata": {},
   "outputs": [],
   "source": [
    "for droga in cte.drugs_columns:\n",
    "    df[droga] = df[droga].apply(lambda row: cte.drugs_values_grouped[row])"
   ]
  },
  {
   "cell_type": "markdown",
   "id": "f0fe85d0",
   "metadata": {},
   "source": [
    "2- Eliminamos el chocolate ya que no es una droga como tal y no nos aporta nada para extraer algún insight."
   ]
  },
  {
   "cell_type": "code",
   "execution_count": 22,
   "id": "184c5e0b",
   "metadata": {},
   "outputs": [],
   "source": [
    "del df['chocolate']"
   ]
  },
  {
   "cell_type": "markdown",
   "id": "df95295f",
   "metadata": {},
   "source": [
    "3- Como tenemos demasiadas drogas y muchas tienen efectos/usos similares vamos a agrupar en las siguientes categorías:  \n",
    "* Alcohol.  \n",
    "* Nicotina.  \n",
    "* Cafeína.  \n",
    "* Drogas recreativas, formadas por cannabis, éxtasis, LSD y hongos.  \n",
    "* Drogas estimulantes, formadas por anfetaminas, cocaína, metanfetamina.  \n",
    "* Drogas sedantes, formadas por benzodiazepina, heroína, ketamina y legal highs.  \n",
    "* Drogas de alto riesgo, formadas aminoácidos, crack y VSA."
   ]
  },
  {
   "cell_type": "code",
   "execution_count": 23,
   "id": "0bac66a5",
   "metadata": {},
   "outputs": [],
   "source": [
    "df['recreational_drugs'] = df[['cannabis', 'ecstasy', 'lsd', 'mushrooms']].max(axis=1)\n",
    "df['stimulant_drugs'] = df[['amphet', 'cocaine', 'methadone']].max(axis=1)\n",
    "df['sedative_drugs'] = df[['benzos', 'heroin', 'ketamine', 'legal_highs']].max(axis=1)\n",
    "df['high_risk_drugs'] = df[['amyl', 'crack', 'vsa']].max(axis=1)"
   ]
  },
  {
   "cell_type": "markdown",
   "id": "404ffadf",
   "metadata": {},
   "source": [
    "Borramos los datos de las drogas por separado."
   ]
  },
  {
   "cell_type": "code",
   "execution_count": 24,
   "id": "6140af3e",
   "metadata": {},
   "outputs": [],
   "source": [
    "for droga in cte.drugs_to_delete:\n",
    "    del df[droga]"
   ]
  },
  {
   "cell_type": "code",
   "execution_count": 25,
   "id": "e64ad1da",
   "metadata": {
    "scrolled": true
   },
   "outputs": [],
   "source": [
    "df.to_csv('../data/drug_consumption_clean.csv', index=False)"
   ]
  }
 ],
 "metadata": {
  "kernelspec": {
   "display_name": "Python 3 (ipykernel)",
   "language": "python",
   "name": "python3"
  },
  "language_info": {
   "codemirror_mode": {
    "name": "ipython",
    "version": 3
   },
   "file_extension": ".py",
   "mimetype": "text/x-python",
   "name": "python",
   "nbconvert_exporter": "python",
   "pygments_lexer": "ipython3",
   "version": "3.11.5"
  }
 },
 "nbformat": 4,
 "nbformat_minor": 5
}
