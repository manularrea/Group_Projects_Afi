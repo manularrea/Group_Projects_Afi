{
 "cells": [
  {
   "cell_type": "markdown",
   "id": "6d7b1978",
   "metadata": {},
   "source": [
    "# DRUG CONSUMPTION - GRUPO 1"
   ]
  },
  {
   "cell_type": "markdown",
   "id": "310f0682",
   "metadata": {},
   "source": [
    "Realizado por:\n",
    "* **Alejandro López-Fando Fernández**  \n",
    "* **Jerson Peña Martínez**  \n",
    "* **Manuela Larrea**"
   ]
  },
  {
   "cell_type": "markdown",
   "id": "eb1183fc",
   "metadata": {},
   "source": [
    "Versiones:\n",
    "* Versión Python: **3.11.5**  \n",
    "* Versión Pandas: **2.0.3**  \n",
    "* Versión PlotNine: **0.12.4**"
   ]
  },
  {
   "cell_type": "code",
   "execution_count": 9,
   "id": "b43d9ca4",
   "metadata": {},
   "outputs": [],
   "source": [
    "import sys\n",
    "import pandas as pd\n",
    "import utilities.constants as cte\n",
    "import plotnine as p9"
   ]
  },
  {
   "cell_type": "markdown",
   "id": "0cbbfc64",
   "metadata": {},
   "source": [
    "En la carpeta utilities se encuentra el script constants.py con constantes, esta manera de organizar las cosas hará que el código quede más limpio.  \n",
    "Leamos el set de datos descargado de la siguiente url:  \n",
    "https://archive.ics.uci.edu/dataset/373/drug+consumption+quantified"
   ]
  },
  {
   "cell_type": "code",
   "execution_count": 10,
   "id": "79b9b107",
   "metadata": {},
   "outputs": [],
   "source": [
    "df = pd.read_csv('../data/drug_consumption.data', sep=',', header=None, names=cte.names)"
   ]
  },
  {
   "cell_type": "markdown",
   "id": "2aa2fe1e",
   "metadata": {},
   "source": [
    "Transformamos las columnas para ser capaces de entender el set de datos. Para la transformación seguimos el guión que nos proponen en la url."
   ]
  },
  {
   "cell_type": "code",
   "execution_count": 11,
   "id": "a27769d3",
   "metadata": {},
   "outputs": [],
   "source": [
    "df.age = df.age.apply(lambda row: cte.age_values[row])\n",
    "df.gender = df.gender.apply(lambda row: cte.gender_values[row])\n",
    "df.education = df.education.apply(lambda row: cte.education_values[row])\n",
    "df.country = df.country.apply(lambda row: cte.country_values[row])\n",
    "df.ethnicity = df.ethnicity.apply(lambda row: cte.ethnicity_values[row])\n",
    "df.n_score = df.n_score.apply(lambda row: cte.nscore_values[row])\n",
    "df.e_score = df.e_score.apply(lambda row: cte.escore_values[row])\n",
    "df.o_score = df.o_score.apply(lambda row: cte.oscore_values[row])\n",
    "df.a_score = df.a_score.apply(lambda row: cte.ascore_values[row])\n",
    "df.c_score = df.c_score.apply(lambda row: cte.cscore_values[row])\n",
    "for column in cte.drugs_columns:\n",
    "    df[column] = df[column].apply(lambda row: cte.drugs_values[row])"
   ]
  },
  {
   "cell_type": "markdown",
   "id": "fd636322",
   "metadata": {},
   "source": [
    "AÑADIR EXPLORATORIO DE DATOS QUE JUSTIFQUE LA ELIMINACIÓN DE REGISTROS (POR QUÉ BORRAMOS LOS QUE HAN CONSUMIDO SEMER Y MOSTRAR LAS PERSONAS QUE HAN CONSUMIDO CIERTAS DROGAS CON MENOS DE 14 AÑOS AUNQUE LUEGO DECIDAMOS NO BORRARLO)"
   ]
  },
  {
   "cell_type": "markdown",
   "id": "0c034675",
   "metadata": {},
   "source": [
    "AÑADIR EXPLORATORIO DE DATOS QUE JUSTIFQUE LA ELIMINACIÓN DE ID"
   ]
  },
  {
   "cell_type": "code",
   "execution_count": 13,
   "id": "a0313efa",
   "metadata": {},
   "outputs": [],
   "source": [
    "del df['id']"
   ]
  },
  {
   "cell_type": "markdown",
   "id": "2c336315",
   "metadata": {},
   "source": [
    "AÑADIR EXPLORATORIO DE DATOS QUE JUSTIFQUE LA ELIMINACIÓN DE ETHNICITY"
   ]
  },
  {
   "cell_type": "code",
   "execution_count": null,
   "id": "62922914",
   "metadata": {},
   "outputs": [],
   "source": [
    "del df['ethnicity']"
   ]
  },
  {
   "cell_type": "markdown",
   "id": "bf9b84a2",
   "metadata": {},
   "source": [
    "Para la columna age agrupamos el grupo de personas con 65+ años con el grupo de personas de 55-64 años ya que tenemos menos de un 1% de personas con 65+ años y son dos grupos de población parecidos."
   ]
  },
  {
   "cell_type": "code",
   "execution_count": null,
   "id": "049121b8",
   "metadata": {},
   "outputs": [],
   "source": [
    "df.age = df.age.apply(lambda row: cte.age_values[row])"
   ]
  },
  {
   "cell_type": "markdown",
   "id": "f0d51157",
   "metadata": {},
   "source": [
    "Para la columna education seguimos los valores indicados en la url anterior, sin embargo\n",
    "agrupamos las personas que abandonaron la escuela antes del los 16, las que la abandonaron a los 16, a los 17 y a los 18 como personas sin estudios, y agrupamos las personas con un grado universitario/master/doctorado como personas con estudios superiores. Los otros dos\n",
    "grupos lo forman estudiantes y personas con un título de formación profesional respectivamente."
   ]
  },
  {
   "cell_type": "code",
   "execution_count": null,
   "id": "dc1d149c",
   "metadata": {},
   "outputs": [],
   "source": [
    "df.education = df.education.apply(lambda row: cte.education_values[row])"
   ]
  },
  {
   "cell_type": "markdown",
   "id": "218f0bbe",
   "metadata": {},
   "source": [
    "Para las columnas de drogas seguimos los valores indicados en la url anterior, sin embargo agrupamos CL0, CL1 y CL2 (nunca ha consumido, lleva más de 10 años sin consumir y lleva más de un año sin consumir) como 0 (no consumidor) y agrupamos CL3, CL4, CL5 y CL6 (consumió el último año, consumió el último mes, consumió la última semana y consumió el último día)\n",
    "como 1 (consumidor)."
   ]
  },
  {
   "cell_type": "code",
   "execution_count": null,
   "id": "557b9e5f",
   "metadata": {},
   "outputs": [],
   "source": [
    "for column in cte.drugs_columns:\n",
    "    df[column] = df[column].apply(lambda row: cte.drugs_values[row])"
   ]
  },
  {
   "cell_type": "markdown",
   "id": "b617aa30",
   "metadata": {},
   "source": [
    "AÑADIR CREACIÓN DE LAS NUEVAS COLUMNAS DE DROGAS AGRUPADAS"
   ]
  }
 ],
 "metadata": {
  "kernelspec": {
   "display_name": "Python 3 (ipykernel)",
   "language": "python",
   "name": "python3"
  },
  "language_info": {
   "codemirror_mode": {
    "name": "ipython",
    "version": 3
   },
   "file_extension": ".py",
   "mimetype": "text/x-python",
   "name": "python",
   "nbconvert_exporter": "python",
   "pygments_lexer": "ipython3",
   "version": "3.11.5"
  }
 },
 "nbformat": 4,
 "nbformat_minor": 5
}
